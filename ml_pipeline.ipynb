{
 "cells": [
  {
   "cell_type": "markdown",
   "metadata": {
    "application/vnd.databricks.v1+cell": {
     "inputWidgets": {},
     "nuid": "b354b39f-879b-4777-9abe-fba50cfc09af",
     "showTitle": false,
     "title": ""
    },
    "id": "cHcxH0c6a9IP"
   },
   "source": [
    "#![Spark Logo](http://spark-mooc.github.io/web-assets/images/ta_Spark-logo-small.png) + ![Python Logo](http://spark-mooc.github.io/web-assets/images/python-logo-master-v3-TM-flattened_small.png)\n",
    "#Power Plant Machine Learning Pipeline Application\n",
    "This notebook is an end-to-end exercise of performing Extract-Transform-Load and Exploratory Data Analysis on a real-world dataset, and then applying several different machine learning algorithms to solve a supervised regression problem on the dataset.\n",
    "\n",
    "** This notebook covers: **\n",
    "* *Part 1: Business Understanding*\n",
    "* *Part 2: Load Your Data*\n",
    "* *Part 3: Explore Your Data*\n",
    "* *Part 4: Visualize Your Data*\n",
    "* *Part 5: Data Preparation*\n",
    "* *Part 6: Data Modeling*\n",
    "* *Part 7: Tuning and Evaluation*\n",
    "\n",
    "*Our goal is to accurately predict power output given a set of environmental readings from various sensors in a natural gas-fired power generation plant.*\n",
    "\n",
    "** Background **\n",
    "\n",
    "Power generation is a complex process, and understanding and predicting power output is an important element in managing a plant and its connection to the power grid. The operators of a regional power grid create predictions of power demand based on historical information and environmental factors (e.g., temperature). They then compare the predictions against available resources (e.g., coal, natural gas, nuclear, solar, wind, hydro power plants). Power generation technologies such as solar and wind are highly dependent on environmental conditions, and all generation technologies are subject to planned and unplanned maintenance.\n",
    "\n",
    "Here is an real-world example of predicted demand (on two time scales), actual demand, and available resources from the California power grid: http://www.caiso.com/Pages/TodaysOutlook.aspx\n",
    "\n",
    "\n",
    "The challenge for a power grid operator is how to handle a shortfall in available resources versus actual demand. There are three solutions to  a power shortfall: build more base load power plants (this process can take many years to decades of planning and construction), buy and import power from other regional power grids (this choice can be very expensive and is limited by the power transmission interconnects between grids and the excess power available from other grids), or turn on small [Peaker or Peaking Power Plants](https://en.wikipedia.org/wiki/Peaking_power_plant). Because grid operators need to respond quickly to a power shortfall to avoid a power outage, grid operators rely on a combination of the last two choices. In this exercise, we'll focus on the last choice.\n",
    "\n",
    "** The Business Problem **\n",
    "\n",
    "Because they supply power only occasionally, the power supplied by a peaker power plant commands a much higher price per kilowatt hour than power from a power grid's base power plants. A peaker plant may operate many hours a day, or it may operate only a few hours per year, depending on the condition of the region's electrical grid. Because of the cost of building an efficient power plant, if a peaker plant is only going to be run for a short or highly variable time it does not make economic sense to make it as efficient as a base load power plant. In addition, the equipment and fuels used in base load plants are often unsuitable for use in peaker plants because the fluctuating conditions would severely strain the equipment.\n",
    "\n",
    "The power output of a peaker power plant varies depending on environmental conditions, so the business problem is _predicting the power output of a peaker power plant as a function of the environmental conditions_ -- since this would enable the grid operator to make economic tradeoffs about the number of peaker plants to turn on (or whether to buy expensive power from another grid).\n",
    "\n",
    "Given this business problem, we need to first perform Exploratory Data Analysis to understand the data and then translate the business problem (predicting power output as a function of envionmental conditions) into a Machine Learning task.  In this instance, the ML task is regression since the label (or target) we are trying to predict is numeric. We will use an [Apache Spark ML Pipeline](https://spark.apache.org/docs/1.6.2/api/python/pyspark.ml.html#pyspark-ml-package) to perform the regression.\n",
    "\n",
    "The real-world data we are using in this notebook consists of 9,568 data points, each with 4 environmental attributes collected from a Combined Cycle Power Plant over 6 years (2006-2011), and is provided by the University of California, Irvine at [UCI Machine Learning Repository Combined Cycle Power Plant Data Set](https://archive.ics.uci.edu/ml/datasets/Combined+Cycle+Power+Plant). You can find more details about the dataset on the UCI page, including the following background publications:\n",
    "* Pinar Tüfekci, [Prediction of full load electrical power output of a base load operated combined cycle power plant using machine learning methods](http://www.journals.elsevier.com/international-journal-of-electrical-power-and-energy-systems/), International Journal of Electrical Power & Energy Systems, Volume 60, September 2014, Pages 126-140, ISSN 0142-0615.\n",
    "* Heysem Kaya, Pinar Tüfekci and Fikret S. Gürgen: [Local and Global Learning Methods for Predicting Power of a Combined Gas & Steam Turbine](http://psrcentre.org/images/extraimages/70.%20312595.pdf), Proceedings of the International Conference on Emerging Trends in Computer and Electronics Engineering ICETCEE 2012, pp. 13-18 (Mar. 2012, Dubai).\n",
    "\n",
    "**TODO**: Read the documentation and examples for [Spark Machine Learning Pipeline](https://spark.apache.org/docs/1.6.2/ml-guide.html#main-concepts-in-pipelines)."
   ]
  },
  {
   "cell_type": "markdown",
   "metadata": {
    "id": "vbEwqE3uwyH5"
   },
   "source": [
    "## Part 0: Install PySpark"
   ]
  },
  {
   "cell_type": "code",
   "execution_count": null,
   "metadata": {
    "colab": {
     "base_uri": "https://localhost:8080/"
    },
    "id": "R79NJwxkw3iI",
    "outputId": "af8c6ece-3993-4626-b761-473c61e075a4"
   },
   "outputs": [],
   "source": [
    "! pip install pyspark==3.2.1"
   ]
  },
  {
   "cell_type": "code",
   "execution_count": null,
   "metadata": {
    "id": "Tn4OMH2lxVEi"
   },
   "outputs": [],
   "source": [
    "from pyspark import SparkConf, SparkContext\n",
    "\n",
    "conf = SparkConf().setAppName('Spark Programming')\n",
    "sc = SparkContext(conf=conf)"
   ]
  },
  {
   "cell_type": "code",
   "execution_count": null,
   "metadata": {
    "id": "dfa9_YqmzvWJ"
   },
   "outputs": [],
   "source": [
    "from pyspark.sql import SparkSession\n",
    "\n",
    "spark = SparkSession \\\n",
    "    .builder \\\n",
    "    .master(\"local[2]\") \\\n",
    "    .config('spark.cores.max', '3') \\\n",
    "    .config('spark.executor.memory', '2g') \\\n",
    "    .config('spark.executor.cores', '2') \\\n",
    "    .config('spark.driver.memory','1g') \\\n",
    "    .getOrCreate()"
   ]
  },
  {
   "cell_type": "code",
   "execution_count": null,
   "metadata": {
    "colab": {
     "base_uri": "https://localhost:8080/"
    },
    "id": "s3g3XaG17fXo",
    "outputId": "a69160d6-3ee5-4dda-b394-43cbb1226590"
   },
   "outputs": [],
   "source": [
    "from pyspark.sql import SQLContext\n",
    "sqlContext = SQLContext(sc)"
   ]
  },
  {
   "cell_type": "markdown",
   "metadata": {
    "application/vnd.databricks.v1+cell": {
     "inputWidgets": {},
     "nuid": "f686537a-1616-4d8d-aacb-9a0ff4ce92c8",
     "showTitle": false,
     "title": ""
    },
    "id": "CkVvBwk0a9IS"
   },
   "source": [
    "## Part 1: Business Understanding\n",
    "The first step in any machine learning task is to understand the business need.\n",
    "\n",
    "As described in the overview we are trying to predict power output given a set of readings from various sensors in a gas-fired power generation plant.\n",
    "\n",
    "The problem is a regression problem since the label (or target) we are trying to predict is numeric."
   ]
  },
  {
   "cell_type": "markdown",
   "metadata": {
    "application/vnd.databricks.v1+cell": {
     "inputWidgets": {},
     "nuid": "e469f80b-0323-4022-b3f1-d145457349f8",
     "showTitle": false,
     "title": ""
    },
    "id": "rQja-_ZZa9IS"
   },
   "source": [
    "## Part 2: Extract-Transform-Load (ETL) Your Data\n",
    "\n",
    "Now that we understand what we are trying to do, the first step is to load our data into a format we can query and use.  This is known as ETL or \"Extract-Transform-Load\".  We will load our file from the local machine.\n",
    "\n",
    "Note: Alternatively we could upload our data using aws-cli, assuming the data is store in the aws s3 service.\n",
    "\n",
    "Our data is available on Amazon s3 at the following path:\n",
    "\n",
    "`https://archive.ics.uci.edu/dataset/294/combined+cycle+power+plant`\n",
    "\n",
    "We have provided a set of data sheets for you to work on.\n",
    "\n",
    "Simply upload the data folder to Colab.\n",
    "\n",
    "**TODO**:\n",
    "\n",
    "1. Upload the data folder from github to Calob. `folder` -> `create folder` -> `upload`\n",
    "\n",
    "2. Let's start by printing a sample of the data.\n",
    "\n",
    "We'll use pandas for exploring the data.\n"
   ]
  },
  {
   "cell_type": "code",
   "execution_count": null,
   "metadata": {
    "id": "hc9wBRHgkiuS"
   },
   "outputs": [],
   "source": [
    "import pandas as pd"
   ]
  },
  {
   "cell_type": "code",
   "execution_count": null,
   "metadata": {
    "id": "dj4phrHkkmem"
   },
   "outputs": [],
   "source": [
    "data = pd.read_csv(\"./data/Sheet1.tsv\", sep=\"\\t\")"
   ]
  },
  {
   "cell_type": "markdown",
   "metadata": {
    "application/vnd.databricks.v1+cell": {
     "inputWidgets": {},
     "nuid": "18eecd6c-28ee-4f58-af82-793feedb7014",
     "showTitle": false,
     "title": ""
    },
    "id": "Aj5Srl2ga9IT"
   },
   "source": [
    "Next, examine the data."
   ]
  },
  {
   "cell_type": "code",
   "execution_count": null,
   "metadata": {
    "colab": {
     "base_uri": "https://localhost:8080/",
     "height": 424
    },
    "id": "xcmHgneAkvVr",
    "outputId": "06c38775-19d6-47c7-95b2-18a40eb836a7"
   },
   "outputs": [],
   "source": [
    "data"
   ]
  },
  {
   "cell_type": "markdown",
   "metadata": {
    "application/vnd.databricks.v1+cell": {
     "inputWidgets": {},
     "nuid": "f1939516-fe29-4de8-8a19-3050f8c34580",
     "showTitle": false,
     "title": ""
    },
    "id": "WQu1eQ6qa9IU"
   },
   "source": [
    "### Exercise 2(a)\n",
    "\n",
    "Now, let's use PySpark instead to print the first 5 lines of the data.\n",
    "\n",
    "*Hint*: First create an RDD from the data by using [`sc.textFile(\"./data\")`](https://spark.apache.org/docs/1.6.2/api/python/pyspark.html#pyspark.SparkContext.textFile) to read the data into an RDD.\n",
    "\n",
    "*Hint*: Then figure out how to use the RDD [`take()`](https://spark.apache.org/docs/1.6.2/api/python/pyspark.html#pyspark.RDD.take) method to extract the first 5 lines of the RDD and print each line."
   ]
  },
  {
   "cell_type": "code",
   "execution_count": null,
   "metadata": {
    "application/vnd.databricks.v1+cell": {
     "inputWidgets": {},
     "nuid": "08f9ddde-a12a-4d47-bb06-b51f415b5f64",
     "showTitle": false,
     "title": ""
    },
    "colab": {
     "base_uri": "https://localhost:8080/",
     "height": 193
    },
    "id": "wbPopnUfa9IU",
    "outputId": "62519a16-0d28-4b4d-e6ba-529b65e56130"
   },
   "outputs": [],
   "source": [
    "# TODO: Load the data and print the first five lines.\n",
    "textRDD = <FILL_IN>\n",
    "\n",
    "for line in <FILL_IN>:\n",
    "  print(line)"
   ]
  },
  {
   "cell_type": "markdown",
   "metadata": {
    "application/vnd.databricks.v1+cell": {
     "inputWidgets": {},
     "nuid": "cc3463ad-a17b-41ab-a021-db8197df98fa",
     "showTitle": false,
     "title": ""
    },
    "id": "Qy69UZ_0a9IV"
   },
   "source": [
    "From our initial exploration of a sample of the data, we can make several observations for the ETL process:\n",
    "  - The data is a set of .tsv (Tab Seperated Values) files (i.e., each row of the data is separated using tabs)\n",
    "  - There is a header row, which is the name of the columns\n",
    "  - It looks like the type of the data in each column is consistent (i.e., each column is of type double)\n",
    "\n",
    "Our schema definition from UCI appears below:\n",
    "- AT = Atmospheric Temperature in C\n",
    "- V = Exhaust Vacuum Speed\n",
    "- AP = Atmospheric Pressure\n",
    "- RH = Relative Humidity\n",
    "- PE = Power Output.  This is the value we are trying to predict given the measurements above.\n",
    "\n",
    "We are ready to create a DataFrame from the TSV data. Spark does not have a native method for performing this operation, however we can use [spark-csv](https://spark-packages.org/package/databricks/spark-csv), a third-party package from [SparkPackages](https://spark-packages.org/). The documentation and source code for [spark-csv](https://spark-packages.org/package/databricks/spark-csv) can be found on [GitHub](https://github.com/databricks/spark-csv). The Python API can be found [here](https://github.com/databricks/spark-csv#python-api).\n",
    "\n",
    "(**Note**: In Spark 2.0, the CSV package is built into the DataFrame API.)\n",
    "\n",
    "To use the [spark-csv](https://spark-packages.org/package/databricks/spark-csv) package, we use the [spark.read.format()](https://spark.apache.org/docs/latest/sql-data-sources-load-save-functions.html) method to specify the input data source format: `'com.databricks.spark.csv'`\n",
    "\n",
    "We can provide the [spark-csv](https://spark-packages.org/package/databricks/spark-csv) package with options using the [options()](https://spark.apache.org/docs/1.6.2/api/python/pyspark.sql.html#pyspark.sql.DataFrameReader.options) method. The available options are listed in the GitHub documentation [here](https://github.com/databricks/spark-csv#features).\n",
    "\n",
    "We will use the following three options:\n",
    "- `delimiter='\\t'` because our data is tab delimited\n",
    "- `header='true'` because our data has a header row\n",
    "- `inferschema='true'` because we believe that all of the data is double values, so the package can dynamically infer the type of each column. *Note that this will require two pass over the data.*\n",
    "\n",
    "\n",
    "The last component of creating the DataFrame is to specify the location of the data source using the [load()](https://spark.apache.org/docs/1.6.2/api/python/pyspark.sql.html#pyspark.sql.DataFrameReader.load) method: `\"./data\"`\n",
    "\n",
    "Putting everything together, we will use an operation of the following form:\n",
    "\n",
    "  `sqlContext.read.format().options().load()`\n",
    "\n",
    "### Exercise 2(b)\n",
    "\n",
    "**TODO**: Create a DataFrame from the data.\n",
    "\n",
    "*Hint*: Use the above template and fill in each of the methods."
   ]
  },
  {
   "cell_type": "code",
   "execution_count": null,
   "metadata": {
    "application/vnd.databricks.v1+cell": {
     "inputWidgets": {},
     "nuid": "51988a69-5097-4c68-83f6-4c3993101765",
     "showTitle": false,
     "title": ""
    },
    "id": "LZDh5F8-a9IV"
   },
   "outputs": [],
   "source": [
    "# TODO: Replace <FILL_IN> with the appropriate code.\n",
    "plantDF = sqlContext.read.<FILL_IN>"
   ]
  },
  {
   "cell_type": "code",
   "execution_count": null,
   "metadata": {
    "application/vnd.databricks.v1+cell": {
     "inputWidgets": {},
     "nuid": "7d39ad52-e0b0-460b-9c22-5ea2665e781b",
     "showTitle": false,
     "title": ""
    },
    "id": "E1XXnEhFa9IV"
   },
   "outputs": [],
   "source": [
    "# Initialize the Test class\n",
    "import hashlib\n",
    "\n",
    "class TestFailure(Exception):\n",
    "    pass\n",
    "class PrivateTestFailure(Exception):\n",
    "    pass\n",
    "\n",
    "class Test(object):\n",
    "    passed = 0\n",
    "    numTests = 0\n",
    "    failFast = False\n",
    "    private = False\n",
    "\n",
    "    @classmethod\n",
    "    def setFailFast(cls):\n",
    "        cls.failFast = True\n",
    "\n",
    "    @classmethod\n",
    "    def setPrivateMode(cls):\n",
    "        cls.private = True\n",
    "\n",
    "    @classmethod\n",
    "    def assertTrue(cls, result, msg=\"\"):\n",
    "        cls.numTests += 1\n",
    "        if result == True:\n",
    "            cls.passed += 1\n",
    "            print(\"1 test passed.\")\n",
    "        else:\n",
    "            print(\"1 test failed. \" + msg)\n",
    "            if cls.failFast:\n",
    "                if cls.private:\n",
    "                    raise PrivateTestFailure(msg)\n",
    "                else:\n",
    "                    raise TestFailure(msg)\n",
    "\n",
    "    @classmethod\n",
    "    def assertEquals(cls, var, val, msg=\"\"):\n",
    "        cls.assertTrue(var == val, msg)\n",
    "\n",
    "    @classmethod\n",
    "    def assertEqualsHashed(cls, var, hashed_val, msg=\"\"):\n",
    "        cls.assertEquals(cls._hash(var), hashed_val, msg)\n",
    "\n",
    "    @classmethod\n",
    "    def printStats(cls):\n",
    "        print(\"{0} / {1} test(s) passed.\".format(cls.passed, cls.numTests))\n",
    "\n",
    "    @classmethod\n",
    "    def _hash(cls, x):\n",
    "        return hashlib.sha1(str(x).encode('utf-8')).hexdigest()"
   ]
  },
  {
   "cell_type": "code",
   "execution_count": null,
   "metadata": {
    "application/vnd.databricks.v1+cell": {
     "inputWidgets": {},
     "nuid": "461a5642-089d-43b7-976e-e831ea2303fd",
     "showTitle": false,
     "title": ""
    },
    "colab": {
     "base_uri": "https://localhost:8080/"
    },
    "id": "fYKmvO0Ja9IV",
    "outputId": "dc1226bd-ad8c-4c03-bda9-5f5027f4c2a3"
   },
   "outputs": [],
   "source": [
    "expected = set([(s, 'double') for s in ('AP', 'AT', 'PE', 'RH', 'V')])\n",
    "Test.assertEquals(expected, set(plantDF.dtypes), \"Incorrect schema for powerPlantDF\")"
   ]
  },
  {
   "cell_type": "markdown",
   "metadata": {
    "application/vnd.databricks.v1+cell": {
     "inputWidgets": {},
     "nuid": "c65f7423-9d73-460c-bfe2-956371487462",
     "showTitle": false,
     "title": ""
    },
    "id": "8nHTaBCda9IV"
   },
   "source": [
    "Check the names and types of the columns using the [dtypes](https://spark.apache.org/docs/1.6.2/api/python/pyspark.sql.html#pyspark.sql.DataFrame.dtypes) method."
   ]
  },
  {
   "cell_type": "code",
   "execution_count": null,
   "metadata": {
    "application/vnd.databricks.v1+cell": {
     "inputWidgets": {},
     "nuid": "f1f6d980-76df-4592-aa2c-051cffb8af51",
     "showTitle": false,
     "title": ""
    },
    "colab": {
     "base_uri": "https://localhost:8080/"
    },
    "id": "qJyVVEJna9IV",
    "outputId": "f7a034be-7fc8-4632-8f19-300325564d76"
   },
   "outputs": [],
   "source": [
    "print(plantDF.dtypes)"
   ]
  },
  {
   "cell_type": "markdown",
   "metadata": {
    "application/vnd.databricks.v1+cell": {
     "inputWidgets": {},
     "nuid": "b49f7c0d-9750-46bd-a620-c925f04edb31",
     "showTitle": false,
     "title": ""
    },
    "id": "SGBafYS4a9IW"
   },
   "source": [
    "We can examine the data using the head method."
   ]
  },
  {
   "cell_type": "code",
   "execution_count": null,
   "metadata": {
    "application/vnd.databricks.v1+cell": {
     "inputWidgets": {},
     "nuid": "d0c82643-ff75-42a5-ab6e-063589c0140b",
     "showTitle": false,
     "title": ""
    },
    "colab": {
     "base_uri": "https://localhost:8080/"
    },
    "id": "mUy1xf-ha9IW",
    "outputId": "1160c810-9262-4b26-c64b-3df64aef3194"
   },
   "outputs": [],
   "source": [
    "plantDF.head(5)"
   ]
  },
  {
   "cell_type": "markdown",
   "metadata": {
    "application/vnd.databricks.v1+cell": {
     "inputWidgets": {},
     "nuid": "929447d3-d138-48ee-b4af-c2ba25e1b2d8",
     "showTitle": false,
     "title": ""
    },
    "id": "kDLCalJMa9IW"
   },
   "source": [
    "### Part 2: Alternative Method to Load your Data\n",
    "Instead of having [spark-csv](https://spark-packages.org/package/databricks/spark-csv) infer the types of the columns, we can specify the schema as a [DataType](https://spark.apache.org/docs/1.6.2/api/python/pyspark.sql.html#pyspark.sql.types.DataType), which is a list of [StructField](https://spark.apache.org/docs/1.6.2/api/python/pyspark.sql.html#pyspark.sql.types.StructType).\n",
    "\n",
    "You can find a list of types in the [pyspark.sql.types](https://spark.apache.org/docs/1.6.2/api/python/pyspark.sql.html#module-pyspark.sql.types) module. For our data, we will use [DoubleType()](https://spark.apache.org/docs/1.6.2/api/python/pyspark.sql.html#pyspark.sql.types.DoubleType).\n",
    "\n",
    "For example, to specify that a column's name and type, we use: `StructField(`_name_`,` _type_`, True)`. (The third parameter, `True`, signifies that the column is nullable.)\n",
    "\n",
    "### Exercise 2(c)\n",
    "\n",
    "Create a custom schema for the power plant data."
   ]
  },
  {
   "cell_type": "code",
   "execution_count": null,
   "metadata": {
    "application/vnd.databricks.v1+cell": {
     "inputWidgets": {},
     "nuid": "bead87c7-b24d-404c-9334-6b86b6a2db90",
     "showTitle": false,
     "title": ""
    },
    "id": "ZKBOQwXNa9IW"
   },
   "outputs": [],
   "source": [
    "# TODO: Fill in the custom schema.\n",
    "from pyspark.sql.types import *\n",
    "\n",
    "# Custom Schema for Power Plant\n",
    "customSchema = StructType([ \\\n",
    "    StructField(\"AT\", DoubleType(), True), \\\n",
    "    <FILL_IN> ])"
   ]
  },
  {
   "cell_type": "code",
   "execution_count": null,
   "metadata": {
    "application/vnd.databricks.v1+cell": {
     "inputWidgets": {},
     "nuid": "7a5e3b29-fb56-4879-80be-09f3f7e13a0e",
     "showTitle": false,
     "title": ""
    },
    "colab": {
     "base_uri": "https://localhost:8080/"
    },
    "id": "Z0WItp4Za9IW",
    "outputId": "1398239e-96dd-45e6-b85d-b67e26a7a7d5"
   },
   "outputs": [],
   "source": [
    "# TEST\n",
    "Test.assertEquals(set([f.name for f in customSchema.fields]), set(['AT', 'V', 'AP', 'RH', 'PE']), 'Incorrect column names in schema.')\n",
    "Test.assertEquals(set([f.dataType for f in customSchema.fields]), set([DoubleType(), DoubleType(), DoubleType(), DoubleType(), DoubleType()]), 'Incorrect column types in schema.')"
   ]
  },
  {
   "cell_type": "markdown",
   "metadata": {
    "application/vnd.databricks.v1+cell": {
     "inputWidgets": {},
     "nuid": "97fe8100-2486-4559-96f9-50043861f399",
     "showTitle": false,
     "title": ""
    },
    "id": "BuVfAQL7a9IW"
   },
   "source": [
    "### Exercise 2(d)\n",
    "\n",
    "Now, let's use the schema to read the data. To do this, we will modify the earlier `sqlContext.read.format` step. We can specify the schema by:\n",
    "- Adding `schema = customSchema` to the load method (use a comma and add it after the file name)\n",
    "- Removing the `inferschema='true'`option because we are explicitly specifying the schema"
   ]
  },
  {
   "cell_type": "code",
   "execution_count": null,
   "metadata": {
    "application/vnd.databricks.v1+cell": {
     "inputWidgets": {},
     "nuid": "0fce11f2-4430-4a8c-93da-963477886363",
     "showTitle": false,
     "title": ""
    },
    "id": "pU5asjeka9IW"
   },
   "outputs": [],
   "source": [
    "# TODO: Use the schema you created above to load the data again.\n",
    "altPlantDF = sqlContext.read.<FILL_IN>"
   ]
  },
  {
   "cell_type": "code",
   "execution_count": null,
   "metadata": {
    "application/vnd.databricks.v1+cell": {
     "inputWidgets": {},
     "nuid": "f08e5932-3fe9-4328-82ec-551ec067e0e9",
     "showTitle": false,
     "title": ""
    },
    "colab": {
     "base_uri": "https://localhost:8080/"
    },
    "id": "xSJkbj1Oa9IW",
    "outputId": "e93ca620-e071-4d54-9cbf-24b009f69fd8"
   },
   "outputs": [],
   "source": [
    "# TEST\n",
    "expected = set([(s, 'double') for s in ('AP', 'AT', 'PE', 'RH', 'V')])\n",
    "Test.assertEquals(expected, set(altPlantDF.dtypes), \"Incorrect schema for powerPlantDF\")"
   ]
  },
  {
   "cell_type": "markdown",
   "metadata": {
    "application/vnd.databricks.v1+cell": {
     "inputWidgets": {},
     "nuid": "883b7e4d-2e00-45ca-bc60-b7c9a86c854b",
     "showTitle": false,
     "title": ""
    },
    "id": "YzFXoCRia9IW"
   },
   "source": [
    "Note that no Spark jobs are launched this time. That is because we specified the schema, so the [spark-csv](https://spark-packages.org/package/databricks/spark-csv) package does not have to read the data to infer the schema. We can use the [dtypes](https://spark.apache.org/docs/1.6.2/api/python/pyspark.sql.html#pyspark.sql.DataFrame.dtypes) method to examine the names and types of the columns. They should be identical to the names and types of the columns that were earlier inferred from the data.\n",
    "\n",
    "When you run the following cell, data would not be read."
   ]
  },
  {
   "cell_type": "code",
   "execution_count": null,
   "metadata": {
    "application/vnd.databricks.v1+cell": {
     "inputWidgets": {},
     "nuid": "b518e390-109b-4846-a075-bca7ae975c64",
     "showTitle": false,
     "title": ""
    },
    "colab": {
     "base_uri": "https://localhost:8080/"
    },
    "id": "TsX5y7_Za9IW",
    "outputId": "599cf395-70cc-44fc-e008-c68603de52a7"
   },
   "outputs": [],
   "source": [
    "print(altPlantDF.dtypes)"
   ]
  },
  {
   "cell_type": "markdown",
   "metadata": {
    "application/vnd.databricks.v1+cell": {
     "inputWidgets": {},
     "nuid": "282e0421-c1b4-4f5b-8cca-3532054db111",
     "showTitle": false,
     "title": ""
    },
    "id": "Mq1RFCFIa9IW"
   },
   "source": [
    "Now we can examine the data using the toPandas() method. *Note that this operation will cause the data to be read and the DataFrame will be created.*"
   ]
  },
  {
   "cell_type": "code",
   "execution_count": null,
   "metadata": {
    "application/vnd.databricks.v1+cell": {
     "inputWidgets": {},
     "nuid": "13fa47a7-8809-4cb7-908a-3f2679282786",
     "showTitle": false,
     "title": ""
    },
    "colab": {
     "base_uri": "https://localhost:8080/"
    },
    "id": "qMPDAEXba9IW",
    "outputId": "d64dc8ef-1f9a-4e27-9b12-905471ad00f0"
   },
   "outputs": [],
   "source": [
    "altPlantDF.toPandas()"
   ]
  },
  {
   "cell_type": "markdown",
   "metadata": {
    "application/vnd.databricks.v1+cell": {
     "inputWidgets": {},
     "nuid": "28f1d13f-37da-4867-9636-14184c59d70b",
     "showTitle": false,
     "title": ""
    },
    "id": "1diB2u6Ya9IW"
   },
   "source": [
    "## Part 3: Explore Your Data\n",
    "Now that your data is loaded, the next step is to explore it and perform some basic analysis and visualizations.\n",
    "\n",
    "This is a step that you should always perform **before** trying to fit a model to the data, as this step will often lead to important insights about your data."
   ]
  },
  {
   "cell_type": "markdown",
   "metadata": {
    "application/vnd.databricks.v1+cell": {
     "inputWidgets": {},
     "nuid": "f5fe9b2f-1812-440e-ad9e-a43ea4d7cf30",
     "showTitle": false,
     "title": ""
    },
    "id": "G8IBsfyma9IX"
   },
   "source": [
    "First, let's register our DataFrame as an SQL table named `plant_dataset`.  Because you may run this lab multiple times, we'll take the precaution of removing any existing tables first.\n",
    "\n",
    "We can delete any existing `plant_dataset` SQL table using the SQL command: `DROP TABLE IF EXISTS plant_dataset` (we also need to to delete any Hive data associated with the table, which we can do with a Databricks file system operation).\n",
    "\n",
    "Once any prior table is removed, we can register our DataFrame as a SQL table using [sqlContext.registerDataFrameAsTable()](https://spark.apache.org/docs/1.6.2/api/python/pyspark.sql.html#pyspark.sql.SQLContext.registerDataFrameAsTable).\n",
    "\n",
    "### 3(a)\n",
    "\n",
    "**TODO**: Execute the prepared code in the following cell."
   ]
  },
  {
   "cell_type": "code",
   "execution_count": null,
   "metadata": {
    "application/vnd.databricks.v1+cell": {
     "inputWidgets": {},
     "nuid": "7dc130f9-1e61-44e8-89c7-d2ffb6e880c9",
     "showTitle": false,
     "title": ""
    },
    "id": "PQmvYVuva9IX"
   },
   "outputs": [],
   "source": [
    "sqlContext.sql(\"DROP TABLE IF EXISTS plant_dataset\")\n",
    "sqlContext.registerDataFrameAsTable(plantDF, \"plant_dataset\")"
   ]
  },
  {
   "cell_type": "markdown",
   "metadata": {
    "application/vnd.databricks.v1+cell": {
     "inputWidgets": {},
     "nuid": "24db3bae-6475-4d4c-aba0-e842d21fd2bb",
     "showTitle": false,
     "title": ""
    },
    "id": "mrKs1V3Pa9IX"
   },
   "source": [
    "Now that our DataFrame exists as a SQL table, we can explore it using SQL commands. This [mini tutorial](https://tutorialzine.com/2016/01/learn-sql-in-20-minutes) could help refeshing the SQL knowledge, and the top three sections therein are enough for this lab.\n",
    "\n",
    "To execute SQL in a cell, we use the `sqlContext.sql()` operator. The following cell is an example of using SQL to query the rows of the SQL table.\n",
    "\n",
    "\n",
    "\n",
    "### 3(b)\n",
    "\n",
    "**TODO**: Execute the prepared code in the following cell."
   ]
  },
  {
   "cell_type": "code",
   "execution_count": null,
   "metadata": {
    "application/vnd.databricks.v1+cell": {
     "inputWidgets": {},
     "nuid": "f0b404a4-8908-4fce-81f3-41231e166f27",
     "showTitle": false,
     "title": ""
    },
    "colab": {
     "base_uri": "https://localhost:8080/",
     "height": 424
    },
    "id": "Dm-iNT_Ca9IX",
    "outputId": "edebbbd8-85b3-44f5-a111-83ac1c82b4ae"
   },
   "outputs": [],
   "source": [
    "sqlContext.sql(\"SELECT * FROM plant_dataset\").toPandas()\n"
   ]
  },
  {
   "cell_type": "markdown",
   "metadata": {
    "application/vnd.databricks.v1+cell": {
     "inputWidgets": {},
     "nuid": "beb04a88-29de-4426-9cc3-5a2a42df70fa",
     "showTitle": false,
     "title": ""
    },
    "id": "by9W2D5ra9IX"
   },
   "source": [
    "### 3(c)\n",
    "\n",
    "Use the SQL `desc` command to describe the schema, by executing the following cell."
   ]
  },
  {
   "cell_type": "code",
   "execution_count": null,
   "metadata": {
    "application/vnd.databricks.v1+cell": {
     "inputWidgets": {},
     "nuid": "036b39e3-79ef-477a-a550-7448630608b9",
     "showTitle": false,
     "title": ""
    },
    "colab": {
     "base_uri": "https://localhost:8080/"
    },
    "id": "Ls49PqsHa9IX",
    "outputId": "2cc748ed-551a-49fb-fbcd-49f0b524e4f0"
   },
   "outputs": [],
   "source": [
    "sqlContext.sql(\"desc plant_dataset\").show()"
   ]
  },
  {
   "cell_type": "markdown",
   "metadata": {
    "application/vnd.databricks.v1+cell": {
     "inputWidgets": {},
     "nuid": "8eb7bd0b-a62f-4293-b751-0d1ff0463a9e",
     "showTitle": false,
     "title": ""
    },
    "id": "fGpFlujva9IX"
   },
   "source": [
    "**Schema Definition**\n",
    "\n",
    "Once again, here's our schema definition:\n",
    "\n",
    "- AT = Atmospheric Temperature in C\n",
    "- V = Exhaust Vacuum Speed\n",
    "- AP = Atmospheric Pressure\n",
    "- RH = Relative Humidity\n",
    "- PE = Power Output\n",
    "\n",
    "PE is our label or target. This is the value we are trying to predict given the measurements.\n",
    "\n",
    "*Reference [UCI Machine Learning Repository Combined Cycle Power Plant Data Set](https://archive.ics.uci.edu/ml/datasets/Combined+Cycle+Power+Plant)*"
   ]
  },
  {
   "cell_type": "markdown",
   "metadata": {
    "application/vnd.databricks.v1+cell": {
     "inputWidgets": {},
     "nuid": "4ad35538-aa51-4aeb-9ccb-aa77f0a6a25c",
     "showTitle": false,
     "title": ""
    },
    "id": "ynH3rAcUa9IX"
   },
   "source": [
    "Let's perform some basic statistical analyses of all the columns.\n",
    "\n",
    "We can get the DataFrame associated with a SQL table by using the [sqlContext.table()](https://spark.apache.org/docs/1.6.2/api/python/pyspark.sql.html#pyspark.sql.DataFrameReader.table) method and passing in the name of the SQL table. Then, we can use the DataFrame [describe()](https://spark.apache.org/docs/1.6.2/api/python/pyspark.sql.html#pyspark.sql.DataFrame.describe) method with no arguments to compute some basic statistics for each column like count, mean, max, min and standard deviation."
   ]
  },
  {
   "cell_type": "code",
   "execution_count": null,
   "metadata": {
    "application/vnd.databricks.v1+cell": {
     "inputWidgets": {},
     "nuid": "1ce45c5b-f5d1-4af6-8cbb-29ac18141c07",
     "showTitle": false,
     "title": ""
    },
    "colab": {
     "base_uri": "https://localhost:8080/",
     "height": 206
    },
    "id": "fhU80QUta9IX",
    "outputId": "afccb23f-d685-4413-fab5-20327318c308"
   },
   "outputs": [],
   "source": [
    "df = sqlContext.table(\"plant_dataset\")\n",
    "\n",
    "df.describe().toPandas()"
   ]
  },
  {
   "cell_type": "markdown",
   "metadata": {
    "application/vnd.databricks.v1+cell": {
     "inputWidgets": {},
     "nuid": "f0a91c3f-6915-457e-a33d-c525d9c0b02b",
     "showTitle": false,
     "title": ""
    },
    "id": "Idnj84Bsa9IX"
   },
   "source": [
    "##Part 4: Visualize Your Data\n",
    "\n",
    "To understand our data, we will look for correlations between features and the label.  This can be important when choosing a model.  E.g., if features and a label are linearly correlated, a linear model like Linear Regression can do well; if the relationship is very non-linear, more complex models such as Decision Trees can be better. We can use Databrick's built in visualization to view each of our predictors in relation to the label column as a scatter plot to see the correlation between the predictors and the label.\n",
    "\n",
    "### Exercise 4(a)\n",
    "\n",
    "** Add figures to the following: **\n",
    "Let's see if there is a corellation between Temperature and Power Output. We can use a SQL query to create a new table consisting of only the AtmosphericTemperature (AT) and PowerOutput (PE) columns, and then use a scatter plot with AtmosphericTemperature on the Y axis and PowerOutput on the X axis to visualize the relationship (if any) between AtmosphericTemperature and PowerOutput.\n",
    "\n",
    "\n",
    "Perform the following steps:\n",
    "\n",
    "- Run the following cell\n",
    "- Click on the \"Bar chart\" icon"
   ]
  },
  {
   "cell_type": "code",
   "execution_count": null,
   "metadata": {
    "application/vnd.databricks.v1+cell": {
     "inputWidgets": {},
     "nuid": "d814283c-c924-4854-882b-bcc40aa74637",
     "showTitle": false,
     "title": ""
    },
    "colab": {
     "base_uri": "https://localhost:8080/",
     "height": 894
    },
    "id": "aeMwDI6ha9Ii",
    "outputId": "45d558e5-f091-480b-f00b-f4163f644232"
   },
   "outputs": [],
   "source": [
    "sqlContext.sql(\"select AT as AtmosphericTemperature, PE as PowerOutput from plant_dataset\").toPandas()"
   ]
  },
  {
   "cell_type": "markdown",
   "metadata": {
    "application/vnd.databricks.v1+cell": {
     "inputWidgets": {},
     "nuid": "9963b502-d3fc-4ff0-8df9-5dc6d1b1586b",
     "showTitle": false,
     "title": ""
    },
    "id": "-AXwVNmya9Ij"
   },
   "source": [
    "It looks like there is strong linear correlation between Temperature and Power Output.\n",
    "\n",
    "** ASIDE: A quick physics lesson**: This correlation is to be expected as the second law of thermodynamics puts a fundamental limit on the [thermal efficiency](https://en.wikipedia.org/wiki/Thermal_efficiency) of all heat-based engines. The limiting factors are:\n",
    " - The temperature at which the heat enters the engine \\\\( T_{H} \\\\)\n",
    " - The temperature of the environment into which the engine exhausts its waste heat \\\\( T_C \\\\)\n",
    "\n",
    "Our temperature measurements are the temperature of the environment. From [Carnot's theorem](https://en.wikipedia.org/wiki/Carnot%27s_theorem_%28thermodynamics%29), no heat engine working between these two temperatures can exceed the Carnot Cycle efficiency:\n",
    "\\\\[ n_{th} \\le 1 - \\frac{T_C}{T_H}  \\\\]\n",
    "\n",
    "Note that as the environmental temperature increases, the efficiency decreases -- _this is the effect that we see in the above graph._"
   ]
  },
  {
   "cell_type": "markdown",
   "metadata": {
    "application/vnd.databricks.v1+cell": {
     "inputWidgets": {},
     "nuid": "c11e9fc2-2ffd-4849-ac26-4309e67c8933",
     "showTitle": false,
     "title": ""
    },
    "id": "xlanJM1Ra9Ij"
   },
   "source": [
    "### Exercise 4(b)\n",
    "\n",
    "Use SQL to create a scatter plot of PowerOutput(PE) as a function of VacuumSpeed (V).\n",
    "Name the y-axis \"PowerOutput\" and the x-axis \"VacuumSpeed\""
   ]
  },
  {
   "cell_type": "code",
   "execution_count": null,
   "metadata": {
    "application/vnd.databricks.v1+cell": {
     "inputWidgets": {},
     "nuid": "364bb113-04e6-43f5-b59c-96fdd3ccc4f4",
     "showTitle": false,
     "title": ""
    },
    "colab": {
     "base_uri": "https://localhost:8080/",
     "height": 424
    },
    "id": "wAauzCOMa9Ij",
    "outputId": "30901627-137e-49ff-a412-d0741f211e9a"
   },
   "outputs": [],
   "source": [
    "# TODO: Replace <FILL_IN> with the appropriate SQL command.\n",
    "<FILL_IN>"
   ]
  },
  {
   "cell_type": "markdown",
   "metadata": {
    "application/vnd.databricks.v1+cell": {
     "inputWidgets": {},
     "nuid": "68171356-7154-438f-b20e-11e3e1792b76",
     "showTitle": false,
     "title": ""
    },
    "id": "ZVVe_Xo7a9Ij"
   },
   "source": [
    "Let's continue exploring the relationships (if any) between the variables and Power Output.\n",
    "\n",
    "### Exercise 4(c)\n",
    "\n",
    "Use SQL to create a scatter plot of PowerOutput(PE) as a function of AtmosphericPressure (AP).\n",
    "Name the y-axis \"PowerOutput\" and the x-axis \"AtmosphericPressure\""
   ]
  },
  {
   "cell_type": "code",
   "execution_count": null,
   "metadata": {
    "application/vnd.databricks.v1+cell": {
     "inputWidgets": {},
     "nuid": "84de8eff-9933-4973-ba9d-2e5849bb6ab2",
     "showTitle": false,
     "title": ""
    },
    "id": "UylhL8f7a9Ij"
   },
   "outputs": [],
   "source": [
    "# TODO: Replace <FILL_IN> with the appropriate SQL command.\n",
    "<FILL_IN>"
   ]
  },
  {
   "cell_type": "markdown",
   "metadata": {
    "application/vnd.databricks.v1+cell": {
     "inputWidgets": {},
     "nuid": "ace5df29-b137-4f32-acfc-cc8bea03fb6c",
     "showTitle": false,
     "title": ""
    },
    "id": "WiGb0PxFa9Ij"
   },
   "source": [
    "### Exercise 4(d)\n",
    "\n",
    "Use SQL to create a scatter plot of PowerOutput(PE) as a function of RelativeHumidity(RH).\n",
    "Name the y-axis \"PowerOutput\" and the x-axis \"RelativeHumidity\""
   ]
  },
  {
   "cell_type": "code",
   "execution_count": null,
   "metadata": {
    "application/vnd.databricks.v1+cell": {
     "inputWidgets": {},
     "nuid": "b8179045-13bf-4754-8019-f124b7382f5b",
     "showTitle": false,
     "title": ""
    },
    "id": "ZwzsZR4ya9Ij"
   },
   "outputs": [],
   "source": [
    "# TODO: Replace <FILL_IN> with the appropriate SQL command.\n",
    "<FILL_IN>"
   ]
  },
  {
   "cell_type": "markdown",
   "metadata": {
    "application/vnd.databricks.v1+cell": {
     "inputWidgets": {},
     "nuid": "a3d988ee-9aff-43c3-80fa-90f364af57ec",
     "showTitle": false,
     "title": ""
    },
    "id": "zP3k-6fFa9Ij"
   },
   "source": [
    "##Part 5: Data Preparation\n",
    "\n",
    "The next step is to prepare the data for machine learning. Since all of this data is numeric and consistent this is a simple and straightforward task.\n",
    "\n",
    "The goal is to use machine learning to determine a function that yields the output power as a function of a set of predictor features. The first step in building our ML pipeline is to convert the predictor features from DataFrame columns to Feature Vectors using the [pyspark.ml.feature.VectorAssembler()](https://spark.apache.org/docs/1.6.2/api/python/pyspark.ml.html#pyspark.ml.feature.VectorAssembler) method.\n",
    "\n",
    "The VectorAssembler is a transformer that combines a given list of columns into a single vector column. It is useful for combining raw features and features generated by different feature transformers into a single feature vector, in order to train ML models like logistic regression and decision trees. VectorAssembler takes a list of input column names (each is a string) and the name of the output column (as a string).\n",
    "\n",
    "### Exercise 5(a)\n",
    "\n",
    "- Read the Spark documentation and useage examples for [VectorAssembler](https://spark.apache.org/docs/1.6.2/ml-features.html#vectorassembler).\n",
    "- Convert the `plant_dataset` SQL table into a DataFrame.\n",
    "- Set the vectorizer's input columns to a list of the four columns of the input DataFrame: `[\"AT\", \"V\", \"AP\", \"RH\"]`.\n",
    "- Set the vectorizer's output column name to `\"features\"`."
   ]
  },
  {
   "cell_type": "code",
   "execution_count": null,
   "metadata": {
    "application/vnd.databricks.v1+cell": {
     "inputWidgets": {},
     "nuid": "60696f77-a9ca-4276-b5d7-838c1a4bc5fd",
     "showTitle": false,
     "title": ""
    },
    "colab": {
     "base_uri": "https://localhost:8080/"
    },
    "id": "KwlWKOf3a9Ij",
    "outputId": "6ece7a6b-b3e9-40f0-9f35-b34a1d57870d"
   },
   "outputs": [],
   "source": [
    "# TODO: Replace <FILL_IN> with the appropriate code\n",
    "from pyspark.ml.feature import VectorAssembler\n",
    "\n",
    "datasetDF = sqlContext.<FILL_IN>\n",
    "\n",
    "vectorizer = VectorAssembler()\n",
    "vectorizer.setInputCols(<FILL_IN>)\n",
    "vectorizer.setOutputCol(<FILL_IN>)"
   ]
  },
  {
   "cell_type": "code",
   "execution_count": null,
   "metadata": {
    "application/vnd.databricks.v1+cell": {
     "inputWidgets": {},
     "nuid": "1ed17d6c-6408-4af0-8d1d-945fef3b8ce5",
     "showTitle": false,
     "title": ""
    },
    "colab": {
     "base_uri": "https://localhost:8080/"
    },
    "id": "hTLhpv09a9Ij",
    "outputId": "eda06535-905d-4a7e-ecae-df8804f93188"
   },
   "outputs": [],
   "source": [
    "# TEST\n",
    "Test.assertEquals(set(vectorizer.getInputCols()), {\"AT\", \"V\", \"AP\", \"RH\"}, \"Incorrect vectorizer input columns\")\n",
    "Test.assertEquals(vectorizer.getOutputCol(), \"features\", \"Incorrect vectorizer output column\")"
   ]
  },
  {
   "cell_type": "markdown",
   "metadata": {
    "application/vnd.databricks.v1+cell": {
     "inputWidgets": {},
     "nuid": "2b1624ed-b4f4-431b-a263-b27ab53156a7",
     "showTitle": false,
     "title": ""
    },
    "id": "JVwmFyU_a9Ij"
   },
   "source": [
    "##Part 6: Data Modeling\n",
    "Now let's model our data to predict what the power output will be given a set of sensor readings\n",
    "\n",
    "Our first model will be based on simple linear regression since we saw some linear patterns in our data based on the scatter plots during the exploration stage.\n",
    "\n",
    "We need a way of evaluating how well our linear regression model predicts power output as a function of input parameters. We can do this by splitting up our initial data set into a _Training Set_ used to train our model and a _Test Set_ used to evaluate the model's performance in giving predictions. We can use a DataFrame's [randomSplit()](https://spark.apache.org/docs/1.6.2/api/python/pyspark.sql.html#pyspark.sql.DataFrame.randomSplit) method to split our dataset. The method takes a list of weights and an optional random seed. The seed is used to initialize the random number generator used by the splitting function.\n",
    "\n",
    "### Exercise 6(a)\n",
    "\n",
    "Use the [randomSplit()](https://spark.apache.org/docs/1.6.2/api/python/pyspark.sql.html#pyspark.sql.DataFrame.randomSplit) method to divide up `datasetDF` into a testSetDF (15% of the input DataFrame) and a trainingSetDF (85% of the input DataFrame), and for reproducibility, use the seed 1900009193. Then cache each DataFrame in memory to maximize performance."
   ]
  },
  {
   "cell_type": "code",
   "execution_count": null,
   "metadata": {
    "application/vnd.databricks.v1+cell": {
     "inputWidgets": {},
     "nuid": "742264bd-47e3-4fb8-afa0-8c083d2e3df0",
     "showTitle": false,
     "title": ""
    },
    "colab": {
     "base_uri": "https://localhost:8080/",
     "height": 424
    },
    "id": "tjI6cQxOa9Ij",
    "outputId": "03de8967-b59e-4a70-aadb-64cdcb8672e3"
   },
   "outputs": [],
   "source": [
    "# TODO: Replace <FILL_IN> with the appropriate code.\n",
    "# We'll hold out 15% of our data for testing and leave 85% for training\n",
    "\n",
    "seed = <FILL_IN>\n",
    "(split15DF, split85DF) = datasetDF.randomSplit(<FILL_IN>)\n",
    "\n",
    "# Let's cache these datasets for performance\n",
    "testSetDF = split15DF.cache()\n",
    "trainingSetDF = split85DF.cache()\n"
   ]
  },
  {
   "cell_type": "code",
   "execution_count": null,
   "metadata": {
    "application/vnd.databricks.v1+cell": {
     "inputWidgets": {},
     "nuid": "4103aad4-2679-4411-bf29-89de3ddbe93e",
     "showTitle": false,
     "title": ""
    },
    "colab": {
     "base_uri": "https://localhost:8080/"
    },
    "id": "knTyS4xAa9Ik",
    "outputId": "6ace90f2-0b6a-47d3-bc49-e40e3f8ef6ca"
   },
   "outputs": [],
   "source": [
    "# TEST\n",
    "Test.assertEquals(trainingSetDF.count(), 40572, \"Incorrect size for training data set\")\n",
    "Test.assertEquals(testSetDF.count(), 7268, \"Incorrect size for test data set\")"
   ]
  },
  {
   "cell_type": "markdown",
   "metadata": {
    "application/vnd.databricks.v1+cell": {
     "inputWidgets": {},
     "nuid": "bdb79865-5cf1-4b5e-aff0-52997923d4f6",
     "showTitle": false,
     "title": ""
    },
    "id": "3-YBlJwva9Ik"
   },
   "source": [
    "Next we'll create a Linear Regression Model and use the built in help to identify how to train it. See API details for [Linear Regression](https://spark.apache.org/docs/1.6.2/api/python/pyspark.ml.html#pyspark.ml.regression.LinearRegression) in the ML guide.\n",
    "\n",
    "### Exercise 6(b)\n",
    "\n",
    "- Read the documentation and examples for [Linear Regression](https://spark.apache.org/docs/1.6.2/ml-classification-regression.html#linear-regression)\n",
    "- Run the next cell"
   ]
  },
  {
   "cell_type": "code",
   "execution_count": null,
   "metadata": {
    "application/vnd.databricks.v1+cell": {
     "inputWidgets": {},
     "nuid": "4ff3773b-f2fd-427d-98ae-abd4069f2182",
     "showTitle": false,
     "title": ""
    },
    "colab": {
     "base_uri": "https://localhost:8080/"
    },
    "id": "xhcbLcCIa9Ik",
    "outputId": "a875ff9b-6459-47f4-a73a-ab464c1cce4b"
   },
   "outputs": [],
   "source": [
    "# ***** LINEAR REGRESSION MODEL ****\n",
    "\n",
    "from pyspark.ml.regression import LinearRegression\n",
    "from pyspark.ml.regression import LinearRegressionModel\n",
    "from pyspark.ml import Pipeline\n",
    "\n",
    "# Let's initialize our linear regression learner\n",
    "lr = LinearRegression()\n",
    "\n",
    "# We use explain params to dump the parameters we can use\n",
    "print(lr.explainParams())"
   ]
  },
  {
   "cell_type": "markdown",
   "metadata": {
    "application/vnd.databricks.v1+cell": {
     "inputWidgets": {},
     "nuid": "571d526a-7d68-4bdd-bdd9-410be24ffe92",
     "showTitle": false,
     "title": ""
    },
    "id": "2KiEMpI8a9Ik"
   },
   "source": [
    "The cell below is based on the [Spark ML Pipeline API for Linear Regression](https://spark.apache.org/docs/1.6.2/api/python/pyspark.ml.html#pyspark.ml.regression.LinearRegression).\n",
    "\n",
    "The first step is to set the parameters for the method:\n",
    "- Set the name of the prediction column to \"Prediction_PE\"\n",
    "- Set the name of the label column to \"PE\"\n",
    "- Set the maximum number of iterations to 100\n",
    "- Set the regularization parameter to 0.15\n",
    "\n",
    "Next, we create the [ML Pipeline](https://spark.apache.org/docs/1.6.2/api/python/pyspark.ml.html#pyspark.ml.Pipeline) and set the stages to the Vectorizer and Linear Regression learner we created earlier.\n",
    "\n",
    "Finally, we create a model by training on `trainingSetDF`.\n",
    "\n",
    "### Exercise 6(c)\n",
    "\n",
    "- Read the [Linear Regression](https://spark.apache.org/docs/1.6.2/api/python/pyspark.ml.html#pyspark.ml.regression.LinearRegression) documentation\n",
    "- Run the next cell, and be sure you understand what's going on."
   ]
  },
  {
   "cell_type": "code",
   "execution_count": null,
   "metadata": {
    "application/vnd.databricks.v1+cell": {
     "inputWidgets": {},
     "nuid": "6172deb4-8a7a-42b6-a513-f9a120c1ab9c",
     "showTitle": false,
     "title": ""
    },
    "id": "JPoTPaHUa9Ik"
   },
   "outputs": [],
   "source": [
    "# Now we set the parameters for the method\n",
    "lr.setPredictionCol(\"Prediction_PE\")\\\n",
    "  .setLabelCol(\"PE\")\\\n",
    "  .setMaxIter(100)\\\n",
    "  .setRegParam(0.15)\n",
    "\n",
    "\n",
    "# We will use the new spark.ml pipeline API. If you have worked with scikit-learn this will be very familiar.\n",
    "lrPipeline = Pipeline()\n",
    "\n",
    "lrPipeline.setStages([vectorizer, lr])\n",
    "\n",
    "# Let's first train on the entire dataset to see what we get\n",
    "lrModel = lrPipeline.fit(trainingSetDF)"
   ]
  },
  {
   "cell_type": "markdown",
   "metadata": {
    "application/vnd.databricks.v1+cell": {
     "inputWidgets": {},
     "nuid": "6b96148d-4852-449b-8b87-ba41d5c79def",
     "showTitle": false,
     "title": ""
    },
    "id": "GeIOr3Zaa9Ik"
   },
   "source": [
    "From the Wikipedia article on [Linear Regression](https://en.wikipedia.org/wiki/Linear_regression):\n",
    "> In statistics, linear regression is an approach for modeling the relationship between a scalar dependent variable \\\\( y \\\\) and one or more explanatory variables (or independent variables) denoted \\\\(X\\\\). In linear regression, the relationships are modeled using linear predictor functions whose unknown model parameters are estimated from the data. Such models are called linear models.\n",
    "\n",
    "Linear regression has many practical uses. Most applications fall into one of the following two broad categories:\n",
    "  - If the goal is prediction, or forecasting, or error reduction, linear regression can be used to fit a predictive model to an observed data set of \\\\(y\\\\) and \\\\(X\\\\) values. After developing such a model, if an additional value of \\\\(X\\\\) is then given without its accompanying value of \\\\(y\\\\), the fitted model can be used to make a prediction of the value of \\\\(y\\\\).\n",
    "  - Given a variable \\\\(y\\\\) and a number of variables \\\\( X_1 \\\\), ..., \\\\( X_p \\\\) that may be related to \\\\(y\\\\), linear regression analysis can be applied to quantify the strength of the relationship between \\\\(y\\\\) and the \\\\( X_j\\\\), to assess which \\\\( X_j \\\\) may have no relationship with \\\\(y\\\\) at all, and to identify which subsets of the \\\\( X_j \\\\) contain redundant information about \\\\(y\\\\).\n",
    "\n",
    "We are interested in both uses, as we would like to predict power output as a function of the input variables, and we would like to know which input variables are weakly or strongly correlated with power output.\n",
    "\n",
    "Since Linear Regression is simply a Line of best fit over the data that minimizes the square of the error, given multiple input dimensions we can express each predictor as a line function of the form:\n",
    "\n",
    "\\\\[ y = a + b x_1 + b x_2 + b x_i ... \\\\]\n",
    "\n",
    "where \\\\(a\\\\) is the intercept and the \\\\(b\\\\) are the coefficients.\n",
    "\n",
    "To express the coefficients of that line we can retrieve the Estimator stage from the PipelineModel and express the weights and the intercept for the function.\n",
    "\n",
    "### Exercise 6(d)\n",
    "\n",
    "Run the next cell. Ensure that you understand what's going on."
   ]
  },
  {
   "cell_type": "code",
   "execution_count": null,
   "metadata": {
    "application/vnd.databricks.v1+cell": {
     "inputWidgets": {},
     "nuid": "658421f6-cf05-4988-b526-018419e38f83",
     "showTitle": false,
     "title": ""
    },
    "colab": {
     "base_uri": "https://localhost:8080/"
    },
    "id": "9heIumJ7a9Ik",
    "outputId": "5c5dd8e2-3db6-444e-aa29-35cf038d3a7b"
   },
   "outputs": [],
   "source": [
    "# The intercept is as follows:\n",
    "intercept = lrModel.stages[1].intercept\n",
    "\n",
    "# The coefficients (i.e., weights) are as follows:\n",
    "weights = lrModel.stages[1].coefficients\n",
    "\n",
    "# Create a list of the column names (without PE)\n",
    "featuresNoLabel = [col for col in datasetDF.columns if col != \"PE\"]\n",
    "\n",
    "# Merge the weights and labels\n",
    "coefficients = list(zip(weights, featuresNoLabel))\n",
    "\n",
    "# Now let's sort the coefficients from greatest absolute weight most to the least absolute weight\n",
    "coefficients = sorted(coefficients, key=lambda tup: abs(tup[0]), reverse=True)\n",
    "\n",
    "equation = \"y = {intercept}\".format(intercept=intercept)\n",
    "variables = []\n",
    "for x in coefficients:\n",
    "    weight = abs(x[0])\n",
    "    name = x[1]\n",
    "    symbol = \"+\" if (x[0] > 0) else \"-\"\n",
    "    equation += (\" {} ({} * {})\".format(symbol, weight, name))\n",
    "\n",
    "# Finally here is our equation\n",
    "print(\"Linear Regression Equation: \" + equation)"
   ]
  },
  {
   "cell_type": "markdown",
   "metadata": {
    "application/vnd.databricks.v1+cell": {
     "inputWidgets": {},
     "nuid": "373aba56-440d-4d4b-bef9-af6d1d131fc2",
     "showTitle": false,
     "title": ""
    },
    "id": "eAa-ZN9za9Ik"
   },
   "source": [
    "Recall **Part 4: Visualize Your Data** when we visualized each predictor against Power Output using a Scatter Plot, does the final equation seems logical given those visualizations?\n",
    "\n",
    "### Exercise 6(e)\n",
    "\n",
    "Now let's see what our predictions look like given this model. We apply our Linear Regression model to the 15% of the data that we split from the input dataset. The output of the model will be a predicted Power Output column named \"Prediction_PE\".\n",
    "\n",
    "- Run the next cell\n",
    "- Scroll through the resulting table and notice how the values in the Power Output (PE) column compare to the corresponding values in the predicted Power Output (Prediction_PE) column"
   ]
  },
  {
   "cell_type": "code",
   "execution_count": null,
   "metadata": {
    "application/vnd.databricks.v1+cell": {
     "inputWidgets": {},
     "nuid": "b8ae0a50-7475-4828-8916-139cd17ee562",
     "showTitle": false,
     "title": ""
    },
    "colab": {
     "base_uri": "https://localhost:8080/",
     "height": 424
    },
    "id": "U9_IvBKRa9Ik",
    "outputId": "ff4ffa15-b778-426f-be66-a4aff4a86524"
   },
   "outputs": [],
   "source": [
    "# Apply our LR model to the test data and predict power output\n",
    "resultsDF = lrModel.transform(testSetDF).select(\"AT\", \"V\", \"AP\", \"RH\", \"PE\", \"Prediction_PE\")\n",
    "\n",
    "resultsDF.toPandas()"
   ]
  },
  {
   "cell_type": "markdown",
   "metadata": {
    "application/vnd.databricks.v1+cell": {
     "inputWidgets": {},
     "nuid": "7ce7d8be-6459-4e41-bb34-1fecd66717fa",
     "showTitle": false,
     "title": ""
    },
    "id": "UfVVacdCa9Ik"
   },
   "source": [
    "From a visual inspection of the predictions, we can see that they are close to the actual values.\n",
    "\n",
    "However, we would like a scientific measure of how well the Linear Regression model is performing in accurately predicting values. To perform this measurement, we can use an evaluation metric such as [Root Mean Squared Error](https://en.wikipedia.org/wiki/Root-mean-square_deviation) (RMSE) to validate our Linear Regression model.\n",
    "\n",
    "RSME is defined as follows: \\\\( RMSE = \\sqrt{\\frac{\\sum_{i = 1}^{n} (x_i - y_i)^2}{n}}\\\\) where \\\\(y_i\\\\) is the observed value and \\\\(x_i\\\\) is the predicted value\n",
    "\n",
    "RMSE is a frequently used measure of the differences between values predicted by a model or an estimator and the values actually observed. The lower the RMSE, the better our model.\n",
    "\n",
    "Spark ML Pipeline provides several regression analysis metrics, including [RegressionEvaluator()](https://spark.apache.org/docs/1.6.2/api/python/pyspark.ml.html#pyspark.ml.evaluation.RegressionEvaluator).\n",
    "\n",
    "After we create an instance of [RegressionEvaluator](https://spark.apache.org/docs/1.6.2/api/python/pyspark.ml.html#pyspark.ml.evaluation.RegressionEvaluator), we set the label column name to \"PE\" and set the prediction column name to \"Predicted_PE\". We then invoke the evaluator on the predictions.\n",
    "\n",
    "### Exercise 6(f)\n",
    "\n",
    "Run the next cell and ensure that you understand what's going on."
   ]
  },
  {
   "cell_type": "code",
   "execution_count": null,
   "metadata": {
    "application/vnd.databricks.v1+cell": {
     "inputWidgets": {},
     "nuid": "6c4a0539-3f61-4cb6-9316-5c95c6739b6b",
     "showTitle": false,
     "title": ""
    },
    "colab": {
     "base_uri": "https://localhost:8080/"
    },
    "id": "WIWtaquaa9Il",
    "outputId": "a2112f77-f197-444d-b32c-ab079a368938"
   },
   "outputs": [],
   "source": [
    "# Now let's compute an evaluation metric for our test dataset\n",
    "from pyspark.ml.evaluation import RegressionEvaluator\n",
    "\n",
    "# Create an RMSE evaluator using the label and predicted columns\n",
    "regEval = RegressionEvaluator(predictionCol=\"Prediction_PE\", labelCol=\"PE\", metricName=\"rmse\")\n",
    "\n",
    "# Run the evaluator on the DataFrame\n",
    "rmse = regEval.evaluate(resultsDF)\n",
    "\n",
    "print(\"Root Mean Squared Error: %.2f\" % rmse)"
   ]
  },
  {
   "cell_type": "markdown",
   "metadata": {
    "application/vnd.databricks.v1+cell": {
     "inputWidgets": {},
     "nuid": "a66f25f4-5e0c-41ec-90d5-f0c2e94074c3",
     "showTitle": false,
     "title": ""
    },
    "id": "T2Ip5jnTa9Il"
   },
   "source": [
    "Another useful statistical evaluation metric is the coefficient of determination, denoted \\\\(R^2\\\\) or \\\\(r^2\\\\) and pronounced \"R squared\". It is a number that indicates the proportion of the variance in the dependent variable that is predictable from the independent variable and it provides a measure of how well observed outcomes are replicated by the model, based on the proportion of total variation of outcomes explained by the model. The coefficient of determination ranges from 0 to 1 (closer to 1), and the higher the value, the better our model.\n",
    "\n",
    "To compute \\\\(r^2\\\\), we invoke the evaluator with  `regEval.metricName: \"r2\"`\n",
    "\n",
    "### Exercise 6(g)\n",
    "\n",
    "Run the next cell and ensure that you understand what's going on."
   ]
  },
  {
   "cell_type": "code",
   "execution_count": null,
   "metadata": {
    "application/vnd.databricks.v1+cell": {
     "inputWidgets": {},
     "nuid": "f1dba825-31ae-4a07-b16d-0be83bef7927",
     "showTitle": false,
     "title": ""
    },
    "colab": {
     "base_uri": "https://localhost:8080/"
    },
    "id": "A16MJU0aa9Il",
    "outputId": "51042dcd-07cd-4623-8f99-ffdf48b15bb4"
   },
   "outputs": [],
   "source": [
    "# Now let's compute another evaluation metric for our test dataset\n",
    "r2 = regEval.evaluate(resultsDF, {regEval.metricName: \"r2\"})\n",
    "\n",
    "print(\"r2: {0:.2f}\".format(r2))"
   ]
  },
  {
   "cell_type": "markdown",
   "metadata": {
    "application/vnd.databricks.v1+cell": {
     "inputWidgets": {},
     "nuid": "a66d3130-388e-4adc-959a-4e8982853233",
     "showTitle": false,
     "title": ""
    },
    "id": "sPDNyqHya9Il"
   },
   "source": [
    "Generally, assuming a Gaussian distribution of errors, a good model will have 68% of predictions within 1 RMSE and 95% within 2 RMSE of the actual value (see http://statweb.stanford.edu/~susan/courses/s60/split/node60.html).\n",
    "\n",
    "Let's examine the predictions and see if a RMSE of 4.60 meets this criteria.\n",
    "\n",
    "We create a new DataFrame using [selectExpr()](https://spark.apache.org/docs/1.6.2/api/python/pyspark.sql.html#pyspark.sql.DataFrame.selectExpr) to project a set of SQL expressions, and register the DataFrame as a SQL table using [registerTempTable()](https://spark.apache.org/docs/1.6.2/api/python/pyspark.sql.html#pyspark.sql.DataFrame.registerTempTable).\n",
    "\n",
    "### Exercise 6(h)\n",
    "\n",
    "Run the next cell and ensure that you understand what's going on."
   ]
  },
  {
   "cell_type": "code",
   "execution_count": null,
   "metadata": {
    "application/vnd.databricks.v1+cell": {
     "inputWidgets": {},
     "nuid": "cdf42790-e3f9-45f4-86d5-47b3a6747c08",
     "showTitle": false,
     "title": ""
    },
    "colab": {
     "base_uri": "https://localhost:8080/"
    },
    "id": "RsIHQDOLa9Il",
    "outputId": "2f83bbe6-a344-4f24-a066-ef2a69955fba"
   },
   "outputs": [],
   "source": [
    "# First we remove the table if it already exists\n",
    "sqlContext.sql(\"DROP TABLE IF EXISTS Plant_RMSE_Evaluation\")\n",
    "\n",
    "# Next we calculate the residual error and divide it by the RMSE\n",
    "resultsDF.selectExpr(\"PE\", \"Prediction_PE\", \"PE - Prediction_PE Residual_Error\", \"(PE - Prediction_PE) / {} Within_RSME\".format(rmse)).registerTempTable(\"Plant_RMSE_Evaluation\")"
   ]
  },
  {
   "cell_type": "markdown",
   "metadata": {
    "application/vnd.databricks.v1+cell": {
     "inputWidgets": {},
     "nuid": "21926089-66ff-4270-995b-afaf197ff52c",
     "showTitle": false,
     "title": ""
    },
    "id": "aWa2OCl7a9Il"
   },
   "source": [
    "We can use SQL to explore the `Plant_RMSE_Evaluation` table. First let's look at at the table using a SQL SELECT statement.\n",
    "\n",
    "### Exercise 6(i)\n",
    "\n",
    "Run the next cell and ensure that you understand what's going on."
   ]
  },
  {
   "cell_type": "code",
   "execution_count": null,
   "metadata": {
    "application/vnd.databricks.v1+cell": {
     "inputWidgets": {},
     "nuid": "922b6902-ce0e-4cf9-934d-4fd7f647dc18",
     "showTitle": false,
     "title": ""
    },
    "colab": {
     "base_uri": "https://localhost:8080/",
     "height": 424
    },
    "id": "U-dsMKz9a9Il",
    "outputId": "2c230048-3384-47b3-95f7-d98cc0c81e0c"
   },
   "outputs": [],
   "source": [
    "sqlContext.sql(\"SELECT * from Plant_RMSE_Evaluation\").toPandas()"
   ]
  },
  {
   "cell_type": "markdown",
   "metadata": {
    "application/vnd.databricks.v1+cell": {
     "inputWidgets": {},
     "nuid": "47dfeb75-a90c-4831-85b1-bd641d98ca98",
     "showTitle": false,
     "title": ""
    },
    "id": "SeQaLXZ5a9Il"
   },
   "source": [
    "Now we can display the RMSE as a Histogram.\n",
    "\n",
    "### Exercise 6(j)\n",
    "\n",
    "Perform the following steps:\n",
    "\n",
    "- Run the following cell\n",
    "- Click on the \"Bar chart\" icon and view the Histogram plot\n",
    "\n",
    "\n",
    "Notice that the histogram clearly shows that the RMSE is centered around 0 with the vast majority of the error within 2 RMSEs."
   ]
  },
  {
   "cell_type": "code",
   "execution_count": null,
   "metadata": {
    "application/vnd.databricks.v1+cell": {
     "inputWidgets": {},
     "nuid": "2fb23fda-2ffb-488a-9b2f-6747ee7dd216",
     "showTitle": false,
     "title": ""
    },
    "colab": {
     "base_uri": "https://localhost:8080/",
     "height": 424
    },
    "id": "8bLJmGpga9Il",
    "outputId": "8b88368e-6113-4bf9-92b9-d3ade7387f93"
   },
   "outputs": [],
   "source": [
    "# Now we can display the RMSE as a Histogram\n",
    "sqlContext.sql(\"SELECT Within_RSME from Plant_RMSE_Evaluation\").toPandas()"
   ]
  },
  {
   "cell_type": "markdown",
   "metadata": {
    "application/vnd.databricks.v1+cell": {
     "inputWidgets": {},
     "nuid": "4bc1fe56-503d-497c-bc29-907ca6bbff23",
     "showTitle": false,
     "title": ""
    },
    "id": "GiGCu7_oa9Il"
   },
   "source": [
    "Using a complex SQL SELECT statement, we can count the number of predictions within + or - 1.0 and + or - 2.0 and then display the results as a pie chart.\n",
    "\n",
    "### Exercise 6(k)\n",
    "\n",
    "Perform the following steps:\n",
    "\n",
    "  - Run the following cell"
   ]
  },
  {
   "cell_type": "code",
   "execution_count": null,
   "metadata": {
    "application/vnd.databricks.v1+cell": {
     "inputWidgets": {},
     "nuid": "5e5f6f81-e1d7-4368-9a55-8cd658adffea",
     "showTitle": false,
     "title": ""
    },
    "colab": {
     "base_uri": "https://localhost:8080/",
     "height": 562
    },
    "id": "_C9Mt2BUa9Il",
    "outputId": "22a7d175-c820-49aa-d66c-cf47dcc9256d"
   },
   "outputs": [],
   "source": [
    "import matplotlib.pyplot as plt\n",
    "\n",
    "data = sqlContext.sql(\"\"\"\n",
    "SELECT case\n",
    "       when Within_RSME <= 1.0 AND Within_RSME >= -1.0 then 1\n",
    "       when Within_RSME <= 2.0 AND Within_RSME >= -2.0 then 2\n",
    "       else 3\n",
    "       end RSME_Multiple, COUNT(*) AS count\n",
    "FROM Plant_RMSE_Evaluation\n",
    "GROUP BY RSME_Multiple\n",
    "\"\"\").toPandas()\n",
    "\n",
    "\n",
    "fig, ax = plt.subplots()\n",
    "ax.pie(data['count'], labels=data['RSME_Multiple'], autopct='%1.1f%%')\n"
   ]
  },
  {
   "cell_type": "markdown",
   "metadata": {
    "application/vnd.databricks.v1+cell": {
     "inputWidgets": {},
     "nuid": "61e098b8-8431-4095-899b-75935bf376bb",
     "showTitle": false,
     "title": ""
    },
    "id": "GFzM61K4a9Im"
   },
   "source": [
    "From the pie chart, we can see that 68% of our test data predictions are within 1 RMSE of the actual values, and 97% (68% + 29%) of our test data predictions are within 2 RMSE. So the model is pretty decent. Let's see if we can tune the model to improve it further."
   ]
  },
  {
   "cell_type": "markdown",
   "metadata": {
    "application/vnd.databricks.v1+cell": {
     "inputWidgets": {},
     "nuid": "0cf45698-794b-4f41-90e8-4d8f90d5c2ab",
     "showTitle": false,
     "title": ""
    },
    "id": "mIpaJtgaa9Im"
   },
   "source": [
    "##Part 7: Tuning and Evaluation\n",
    "\n",
    "Now that we have a model with all of the data let's try to make a better model by tuning over several parameters. The process of tuning a model is known as [Model Selection](https://spark.apache.org/docs/1.6.2/ml-tuning.html#model-selection-aka-hyperparameter-tuning) or [Hyperparameter Tuning](https://spark.apache.org/docs/1.6.2/ml-tuning.html#model-selection-aka-hyperparameter-tuning), and Spark ML Pipeline makes the tuning process very simple and easy.\n",
    "\n",
    "An important task in ML is model selection, or using data to find the best model or parameters for a given task. This is also called tuning. Tuning may be done for individual Estimators such as [LinearRegression](https://spark.apache.org/docs/1.6.2/ml-classification-regression.html#linear-regression), or for entire Pipelines which include multiple algorithms, featurization, and other steps. Users can tune an entire Pipeline at once, rather than tuning each element in the Pipeline separately.\n",
    "\n",
    "Spark ML Pipeline supports model selection using tools such as [CrossValidator](https://spark.apache.org/docs/1.6.2/ml-tuning.html#cross-validation), which requires the following items:\n",
    "  - [Estimator](https://spark.apache.org/docs/1.6.2/api/python/pyspark.ml.html#pyspark.ml.Estimator): algorithm or Pipeline to tune\n",
    "  - [Set of ParamMaps](https://spark.apache.org/docs/1.6.2/api/python/pyspark.ml.html#pyspark.ml.tuning.ParamGridBuilder): parameters to choose from, sometimes called a _parameter grid_ to search over\n",
    "  - [Evaluator](https://spark.apache.org/docs/1.6.2/api/python/pyspark.ml.html#pyspark.ml.evaluation.Evaluator): metric to measure how well a fitted Model does on held-out test data\n",
    "\n",
    "At a high level, model selection tools such as [CrossValidator](https://spark.apache.org/docs/1.6.2/ml-tuning.html#cross-validation) work as follows:\n",
    "  - They split the input data into separate training and test datasets.\n",
    "  - For each (training, test) pair, they iterate through the set of ParamMaps:\n",
    "    - For each [ParamMap](https://spark.apache.org/docs/1.6.2/api/python/pyspark.ml.html#pyspark.ml.tuning.ParamGridBuilder), they fit the [Estimator](https://spark.apache.org/docs/1.6.2/api/python/pyspark.ml.html#pyspark.ml.Estimator) using those parameters, get the fitted Model, and evaluate the Model's performance using the [Evaluator](https://spark.apache.org/docs/1.6.2/api/python/pyspark.ml.html#pyspark.ml.evaluation.Evaluator).\n",
    "  - They select the Model produced by the best-performing set of parameters.\n",
    "\n",
    "The [Evaluator](https://spark.apache.org/docs/1.6.2/api/python/pyspark.ml.html#pyspark.ml.evaluation.Evaluator) can be a [RegressionEvaluator](https://spark.apache.org/docs/1.6.2/api/python/pyspark.ml.html#pyspark.ml.evaluation.RegressionEvaluator) for regression problems. To help construct the parameter grid, users can use the [ParamGridBuilder](https://spark.apache.org/docs/1.6.2/api/python/pyspark.ml.html#pyspark.ml.tuning.ParamGridBuilder) utility.\n",
    "\n",
    "Note that cross-validation over a grid of parameters is expensive. For example, in the next cell, the parameter grid has 10 values for [lr.regParam](https://spark.apache.org/docs/1.6.2/api/python/pyspark.ml.html#pyspark.ml.regression.LinearRegression.regParam), and [CrossValidator](https://spark.apache.org/docs/1.6.2/ml-tuning.html#cross-validation) uses 3 folds. This multiplies out to (10 x 3) = 30 different models being trained. In realistic settings, it can be common to try many more parameters (e.g., multiple values for multiple parameters) and use more folds (_k_ = 3 and _k_ = 10 are common). In other words, using [CrossValidator](https://spark.apache.org/docs/1.6.2/ml-tuning.html#cross-validation) can be very expensive. However, it is also a well-established method for choosing parameters which is more statistically sound than heuristic hand-tuning.\n",
    "\n",
    "We perform the following steps:\n",
    "  - Create a [CrossValidator](https://spark.apache.org/docs/1.6.2/ml-tuning.html#cross-validation) using the Pipeline and [RegressionEvaluator](https://spark.apache.org/docs/1.6.2/api/python/pyspark.ml.html#pyspark.ml.evaluation.RegressionEvaluator) that we created earlier, and set the number of folds to 3\n",
    "  - Create a list of 10 regularization parameters\n",
    "  - Use [ParamGridBuilder](https://spark.apache.org/docs/1.6.2/api/python/pyspark.ml.html#pyspark.ml.tuning.ParamGridBuilder) to build a parameter grid with the regularization parameters and add the grid to the [CrossValidator](https://spark.apache.org/docs/1.6.2/ml-tuning.html#cross-validation)\n",
    "  - Run the [CrossValidator](https://spark.apache.org/docs/1.6.2/ml-tuning.html#cross-validation) to find the parameters that yield the best model (i.e., lowest RMSE) and return the best model.\n",
    "\n",
    "### Exercise 7(a)\n",
    "\n",
    "Run the next cell. _Note that it will take some time to run the [CrossValidator](https://spark.apache.org/docs/1.6.2/ml-tuning.html#cross-validation) as it will run almost 200 Spark jobs_"
   ]
  },
  {
   "cell_type": "code",
   "execution_count": null,
   "metadata": {
    "application/vnd.databricks.v1+cell": {
     "inputWidgets": {},
     "nuid": "aeffe421-60f6-4cc7-9d3d-6e4e2a028113",
     "showTitle": false,
     "title": ""
    },
    "id": "EjKgWtk3a9Im"
   },
   "outputs": [],
   "source": [
    "from pyspark.ml.tuning import ParamGridBuilder, CrossValidator\n",
    "\n",
    "# We can reuse the RegressionEvaluator, regEval, to judge the model based on the best Root Mean Squared Error\n",
    "# Let's create our CrossValidator with 3 fold cross validation\n",
    "crossval = CrossValidator(estimator=lrPipeline, evaluator=regEval, numFolds=3)\n",
    "\n",
    "# Let's tune over our regularization parameter from 0.005 to 0.050\n",
    "regParam = [x / 200.0 for x in range(1, 11)]\n",
    "\n",
    "# We'll create a paramter grid using the ParamGridBuilder, and add the grid to the CrossValidator\n",
    "paramGrid = (ParamGridBuilder()\n",
    "             .addGrid(lr.regParam, regParam)\n",
    "             .build())\n",
    "crossval.setEstimatorParamMaps(paramGrid)\n",
    "\n",
    "# Now let's find and return the best model\n",
    "cvModel = crossval.fit(trainingSetDF).bestModel"
   ]
  },
  {
   "cell_type": "markdown",
   "metadata": {
    "application/vnd.databricks.v1+cell": {
     "inputWidgets": {},
     "nuid": "f2698453-72a3-4e42-9fda-beea1b94d75e",
     "showTitle": false,
     "title": ""
    },
    "id": "RSGQrouma9Im"
   },
   "source": [
    "Now that we have tuned our Linear Regression model, let's see what the new RMSE and \\\\(r^2\\\\) values are versus our intial model.\n",
    "\n",
    "### Exercise 7(b)\n",
    "\n",
    "Complete and run the next cell."
   ]
  },
  {
   "cell_type": "code",
   "execution_count": null,
   "metadata": {
    "application/vnd.databricks.v1+cell": {
     "inputWidgets": {},
     "nuid": "bbc5f1fb-4f26-4a2c-a179-a2a869e7acc1",
     "showTitle": false,
     "title": ""
    },
    "colab": {
     "base_uri": "https://localhost:8080/"
    },
    "id": "omAIJTYGa9Im",
    "outputId": "e894c963-db9e-489d-8966-e490fe2abfb8"
   },
   "outputs": [],
   "source": [
    "# TODO: Replace <FILL_IN> with the appropriate code.\n",
    "# Now let's use cvModel to compute an evaluation metric for our test dataset: testSetDF\n",
    "resultsDF = cvModel.<FILL_IN>\n",
    "\n",
    "# Run the previously created RMSE evaluator, regEval, on the resultsDF DataFrame\n",
    "rmseNew = regEval.evaluate(resultsDF)\n",
    "\n",
    "# Now let's compute the r2 evaluation metric for our test dataset\n",
    "r2New = regEval.evaluate(resultsDF, {regEval.metricName: 'r2'})\n",
    "\n",
    "print(\"Original Root Mean Squared Error: {0:2.2f}\".format(rmse))\n",
    "print(\"New Root Mean Squared Error: {0:2.2f}\".format(rmseNew))\n",
    "print(\"Old r2: {0:2.2f}\".format(r2))\n",
    "print(\"New r2: {0:2.2f}\".format(r2New))"
   ]
  },
  {
   "cell_type": "code",
   "execution_count": null,
   "metadata": {
    "application/vnd.databricks.v1+cell": {
     "inputWidgets": {},
     "nuid": "9aa90ef7-4a8d-41e1-bddb-81cc12acc14f",
     "showTitle": false,
     "title": ""
    },
    "colab": {
     "base_uri": "https://localhost:8080/"
    },
    "id": "ZSC-6QxMa9Im",
    "outputId": "c98a8ff9-2ed3-42be-8915-9a4c38e03a73"
   },
   "outputs": [],
   "source": [
    "# TEST\n",
    "Test.assertEquals(round(rmse, 2), 4.57, \"Incorrect value for rmse\")\n",
    "Test.assertEquals(round(rmseNew, 2), 4.56, \"Incorrect value for rmseNew\")\n",
    "Test.assertEquals(round(r2, 2), 0.93, \"Incorrect value for r2\")\n",
    "Test.assertEquals(round(r2New, 2), 0.93, \"Incorrect value for r2New\")"
   ]
  },
  {
   "cell_type": "markdown",
   "metadata": {
    "application/vnd.databricks.v1+cell": {
     "inputWidgets": {},
     "nuid": "c1fae22a-1804-49b1-81e1-bf35da87806d",
     "showTitle": false,
     "title": ""
    },
    "id": "CrMY-RQ1a9Im"
   },
   "source": [
    "So tuned linear regression model improves a little bit over our initial model. Let's look at the regularization parameter that the [CrossValidator](https://spark.apache.org/docs/1.6.2/ml-tuning.html#cross-validation) has selected.\n",
    "\n",
    "Recall that the orginal regularization parameter we used was 0.015.\n",
    "\n",
    "**NOTE**: The ML Python API currently doesn't provide a way to query the regularization parameter, so we cheat, by \"reaching through\" to the JVM version of the API."
   ]
  },
  {
   "cell_type": "code",
   "execution_count": null,
   "metadata": {
    "application/vnd.databricks.v1+cell": {
     "inputWidgets": {},
     "nuid": "0686f3b3-dd1a-41ee-8b6f-fa7374cb95bd",
     "showTitle": false,
     "title": ""
    },
    "colab": {
     "base_uri": "https://localhost:8080/"
    },
    "id": "qYku2iDsa9Im",
    "outputId": "8b98ed1e-9fc2-4f9d-f0d3-dd2b834c18fb"
   },
   "outputs": [],
   "source": [
    "print(\"Regularization parameter of the best model: {0:.2f}\".format(cvModel.stages[-1]._java_obj.parent().getRegParam()))"
   ]
  },
  {
   "cell_type": "markdown",
   "metadata": {
    "application/vnd.databricks.v1+cell": {
     "inputWidgets": {},
     "nuid": "e780c6c8-14cc-4bbe-987a-8ad0525a4e73",
     "showTitle": false,
     "title": ""
    },
    "id": "SMbOflI3a9Im"
   },
   "source": [
    "Given that the only linearly correlated variable is Temperature, it makes sense try another Machine Learning method such as [Decision Tree](https://en.wikipedia.org/wiki/Decision_tree_learning) to handle non-linear data and see if we can improve our model.\n",
    "\n",
    "[Decision Tree Learning](https://en.wikipedia.org/wiki/Decision_tree_learning) uses a [Decision Tree](https://en.wikipedia.org/wiki/Decision_tree) as a predictive model which maps observations about an item to conclusions about the item's target value. It is one of the predictive modelling approaches used in statistics, data mining and machine learning. Decision trees where the target variable can take continuous values (typically real numbers) are called regression trees.\n",
    "\n",
    "Spark ML Pipeline provides [DecisionTreeRegressor()](https://spark.apache.org/docs/1.6.2/api/python/pyspark.ml.html#pyspark.ml.regression.DecisionTreeRegressor) as an implementation of [Decision Tree Learning](https://en.wikipedia.org/wiki/Decision_tree_learning).\n",
    "\n",
    "The cell below is based on the [Spark ML Pipeline API for Decision Tree Regressor](https://spark.apache.org/docs/1.6.2/api/python/pyspark.ml.html#pyspark.ml.regression.DecisionTreeRegressor).\n",
    "\n",
    "### Exercise 7(c)\n",
    "\n",
    "- Read the [Decision Tree Regressor](https://spark.apache.org/docs/1.6.2/api/python/pyspark.ml.html#pyspark.ml.regression.DecisionTreeRegressor) documentation\n",
    "- In the next cell, create a [DecisionTreeRegressor()](https://spark.apache.org/docs/1.6.2/api/python/pyspark.ml.html#pyspark.ml.regression.DecisionTreeRegressor)\n",
    "\n",
    "- The next step is to set the parameters for the method (we do this for you):\n",
    "  - Set the name of the prediction column to \"Prediction_PE\"\n",
    "  - Set the name of the label column to \"PE\"\n",
    "  - Set the name of the features column to \"features\"\n",
    "  - Set the maximum number of bins to 100\n",
    "\n",
    "- Create the [ML Pipeline](https://spark.apache.org/docs/1.6.2/api/python/pyspark.ml.html#pyspark.ml.Pipeline) and set the stages to the Vectorizer we created earlier and [DecisionTreeRegressor()](https://spark.apache.org/docs/1.6.2/api/python/pyspark.ml.html#pyspark.ml.regression.DecisionTreeRegressor) learner we just created."
   ]
  },
  {
   "cell_type": "code",
   "execution_count": null,
   "metadata": {
    "application/vnd.databricks.v1+cell": {
     "inputWidgets": {},
     "nuid": "03a568b0-a0a3-4154-9102-a36c5b4e32d8",
     "showTitle": false,
     "title": ""
    },
    "colab": {
     "base_uri": "https://localhost:8080/"
    },
    "id": "1avI9pbza9Im",
    "outputId": "06a92f7a-04f9-43f7-d237-556f6508ed2c"
   },
   "outputs": [],
   "source": [
    "# TODO: Replace <FILL_IN> with the appropriate code.\n",
    "from pyspark.ml.regression import DecisionTreeRegressor\n",
    "from pyspark.ml import Pipeline\n",
    "# Create a DecisionTreeRegressor\n",
    "dt = DecisionTreeRegressor()\n",
    "\n",
    "dt.<FILL_IN>\n",
    "\n",
    "# Create a Pipeline\n",
    "dtPipeline = Pipeline()\n",
    "\n",
    "# Set the stages of the Pipeline\n",
    "dtPipeline.<FILL_IN>\n",
    "\n"
   ]
  },
  {
   "cell_type": "code",
   "execution_count": null,
   "metadata": {
    "application/vnd.databricks.v1+cell": {
     "inputWidgets": {},
     "nuid": "90bd3b78-1d02-4aec-b1d3-51de54992a22",
     "showTitle": false,
     "title": ""
    },
    "colab": {
     "base_uri": "https://localhost:8080/"
    },
    "id": "6828HRaFa9Im",
    "outputId": "e21b0c24-f950-4328-cabb-ca0201d2b690"
   },
   "outputs": [],
   "source": [
    "# TEST\n",
    "Test.assertEqualsHashed(str(dtPipeline.getStages()[0].__class__.__name__), '4617be70bcf475326c0b07400b97b13457cc4949', \"Incorrect pipeline stage 0\")\n",
    "Test.assertEqualsHashed(str(dtPipeline.getStages()[1].__class__.__name__), '46b18f257cf2f778d0d3b6e30ccc7b3398d7846a', \"Incorrect pipeline stage 1\")"
   ]
  },
  {
   "cell_type": "markdown",
   "metadata": {
    "application/vnd.databricks.v1+cell": {
     "inputWidgets": {},
     "nuid": "f212fb7f-1c5e-4f1c-b38a-5d60bd517aaf",
     "showTitle": false,
     "title": ""
    },
    "id": "jEMMa_Zxa9Im"
   },
   "source": [
    "Instead guessing what parameters to use, we will use [Model Selection](https://spark.apache.org/docs/1.6.2/ml-tuning.html#model-selection-aka-hyperparameter-tuning) or [Hyperparameter Tuning](https://spark.apache.org/docs/1.6.2/ml-tuning.html#model-selection-aka-hyperparameter-tuning) to create the best model.\n",
    "\n",
    "We can reuse the exiting [CrossValidator](https://spark.apache.org/docs/1.6.2/ml-tuning.html#cross-validation) by replacing the Estimator with our new `dtPipeline` (the number of folds remains 3).\n",
    "\n",
    "### Exercise 7(d)\n",
    "\n",
    "- Use [ParamGridBuilder](https://spark.apache.org/docs/1.6.2/api/python/pyspark.ml.html#pyspark.ml.tuning.ParamGridBuilder) to build a parameter grid with the parameter `dt.maxDepth` and a list of the values 2 and 3, and add the grid to the [CrossValidator](https://spark.apache.org/docs/1.6.2/ml-tuning.html#cross-validation)\n",
    "- Run the [CrossValidator](https://spark.apache.org/docs/1.6.2/ml-tuning.html#cross-validation) to find the parameters that yield the best model (i.e., lowest RMSE) and return the best model.\n",
    "\n",
    "_Note that it will take some time to run the [CrossValidator](https://spark.apache.org/docs/1.6.2/ml-tuning.html#cross-validation) as it will run almost 50 Spark jobs_"
   ]
  },
  {
   "cell_type": "code",
   "execution_count": null,
   "metadata": {
    "application/vnd.databricks.v1+cell": {
     "inputWidgets": {},
     "nuid": "d0b5d217-88f6-4e5c-b215-67d5c1f0acdf",
     "showTitle": false,
     "title": ""
    },
    "id": "-TokOQVIa9Im"
   },
   "outputs": [],
   "source": [
    "# TODO: Replace <FILL_IN> with the appropriate code.\n",
    "# Let's just reuse our CrossValidator with the new dtPipeline, RegressionEvaluator regEval, and 3 fold cross validation\n",
    "crossval.setEstimator(dtPipeline)\n",
    "\n",
    "# Let's tune over our dt.maxDepth parameter on the values 2 and 3, create a paramter grid using the ParamGridBuilder\n",
    "paramGrid = <FILL_IN>\n",
    "\n",
    "# Add the grid to the CrossValidator\n",
    "crossval.setEstimatorParamMaps(paramGrid)\n",
    "\n",
    "# Now let's find and return the best model\n",
    "dtModel = crossval.<FILL_IN>\n",
    "\n"
   ]
  },
  {
   "cell_type": "code",
   "execution_count": null,
   "metadata": {
    "application/vnd.databricks.v1+cell": {
     "inputWidgets": {},
     "nuid": "6c29226a-cdef-47d2-aa20-ea06ab902648",
     "showTitle": false,
     "title": ""
    },
    "colab": {
     "base_uri": "https://localhost:8080/"
    },
    "id": "HbHaXDpKa9In",
    "outputId": "9f77d7e4-a910-41a4-b4c7-ee475ecf789c"
   },
   "outputs": [],
   "source": [
    "# TEST\n",
    "Test.assertEqualsHashed(str(dtModel.stages[0].__class__.__name__), '4617be70bcf475326c0b07400b97b13457cc4949', \"Incorrect pipeline stage 0\")\n",
    "Test.assertEqualsHashed(str(dtModel.stages[1].__class__.__name__), 'a2bf7b0c1a0fb9ad35650d0478ad51a9b880befa', \"Incorrect pipeline stage 1\")"
   ]
  },
  {
   "cell_type": "markdown",
   "metadata": {
    "application/vnd.databricks.v1+cell": {
     "inputWidgets": {},
     "nuid": "ff69cdd9-302f-412d-a3b2-c4713f558459",
     "showTitle": false,
     "title": ""
    },
    "id": "CKrWJCnYa9In"
   },
   "source": [
    "### Exercise 7(e)\n",
    "\n",
    "Now let's see how our tuned DecisionTreeRegressor model's RMSE and \\\\(r^2\\\\) values compare to our tuned LinearRegression model.\n",
    "\n",
    "Complete and run the next cell."
   ]
  },
  {
   "cell_type": "code",
   "execution_count": null,
   "metadata": {
    "application/vnd.databricks.v1+cell": {
     "inputWidgets": {},
     "nuid": "e73e0eea-5960-48aa-ba7c-3578e94cc5bb",
     "showTitle": false,
     "title": ""
    },
    "colab": {
     "base_uri": "https://localhost:8080/"
    },
    "id": "LzYkB14Va9In",
    "outputId": "514261b3-3103-4f05-b46b-d47821ac08d7"
   },
   "outputs": [],
   "source": [
    "# TODO: Replace <FILL_IN> with the appropriate code.\n",
    "\n",
    "# Now let's use dtModel to compute an evaluation metric for our test dataset: testSetDF\n",
    "resultsDF = <FILL_IN>\n",
    "\n",
    "# Run the previously created RMSE evaluator, regEval, on the resultsDF DataFrame\n",
    "rmseDT = <FILL_IN>\n",
    "\n",
    "# Now let's compute the r2 evaluation metric for our test dataset\n",
    "r2DT = <FILL_IN>\n",
    "\n",
    "print(\"LR Root Mean Squared Error: {0:.2f}\".format(rmseNew))\n",
    "print(\"DT Root Mean Squared Error: {0:.2f}\".format(rmseDT))\n",
    "print(\"LR r2: {0:.2f}\".format(r2New))\n",
    "print(\"DT r2: {0:.2f}\".format(r2DT))"
   ]
  },
  {
   "cell_type": "code",
   "execution_count": null,
   "metadata": {
    "application/vnd.databricks.v1+cell": {
     "inputWidgets": {},
     "nuid": "7d0640d9-49e1-4304-9f7c-fe8626fd8ec0",
     "showTitle": false,
     "title": ""
    },
    "colab": {
     "base_uri": "https://localhost:8080/"
    },
    "id": "7VX0mdYza9In",
    "outputId": "a4c1c9a6-013e-4468-8dc4-23c0570e3e13"
   },
   "outputs": [],
   "source": [
    "# TEST\n",
    "Test.assertEquals(round(rmseDT, 2), 5.12, \"Incorrect value for rmseDT\")\n",
    "Test.assertEquals(round(r2DT, 2), 0.91, \"Incorrect value for r2DT\")"
   ]
  },
  {
   "cell_type": "markdown",
   "metadata": {
    "application/vnd.databricks.v1+cell": {
     "inputWidgets": {},
     "nuid": "cd338b5e-58c3-4bbc-80a5-5a5b705bfdf7",
     "showTitle": false,
     "title": ""
    },
    "id": "Z5PTOx0Ha9In"
   },
   "source": [
    "The line below will pull the Decision Tree model from the Pipeline as display it as an if-then-else string. Again, we have to \"reach through\" to the JVM API to make this one work.\n",
    "\n",
    "**TODO**: Run the next cell"
   ]
  },
  {
   "cell_type": "code",
   "execution_count": null,
   "metadata": {
    "application/vnd.databricks.v1+cell": {
     "inputWidgets": {},
     "nuid": "f380e689-908b-4470-a79e-e0693436f338",
     "showTitle": false,
     "title": ""
    },
    "colab": {
     "base_uri": "https://localhost:8080/"
    },
    "id": "rxTe41ZYa9In",
    "outputId": "be3590f7-9537-44e5-b815-bccd65910e07"
   },
   "outputs": [],
   "source": [
    "print(dtModel.stages[-1]._java_obj.toDebugString())"
   ]
  },
  {
   "cell_type": "markdown",
   "metadata": {
    "application/vnd.databricks.v1+cell": {
     "inputWidgets": {},
     "nuid": "6634bbbc-4923-4316-9254-b7ae7c48a592",
     "showTitle": false,
     "title": ""
    },
    "id": "sp_FsBlBa9In"
   },
   "source": [
    "So our DecisionTree has slightly worse RMSE than our LinearRegression model (LR: 4.55 vs DT: 5.07). Maybe we can try an [Ensemble Learning](https://en.wikipedia.org/wiki/Ensemble_learning) method such as [Gradient-Boosted Decision Trees](https://en.wikipedia.org/wiki/Gradient_boosting) to see if we can strengthen our model by using an ensemble of weaker trees with weighting to reduce the error in our model.\n",
    "\n",
    "[Random forests](https://en.wikipedia.org/wiki/Random_forest) or random decision tree forests are an ensemble learning method for regression that operate by constructing a multitude of decision trees at training time and outputting the class that is the mean prediction (regression) of the individual trees. Random decision forests correct for decision trees' habit of overfitting to their training set.\n",
    "\n",
    "Spark ML Pipeline provides [RandomForestRegressor()](https://spark.apache.org/docs/1.6.2/api/python/pyspark.ml.html#pyspark.ml.regression.RandomForestRegressor) as an implementation of [Random forests](https://en.wikipedia.org/wiki/Random_forest).\n",
    "\n",
    "The cell below is based on the [Spark ML Pipeline API for Random Forest Regressor](https://spark.apache.org/docs/1.6.2/api/python/pyspark.ml.html#pyspark.ml.regression.RandomForestRegressor).\n",
    "\n",
    "### Exercise 7(f)\n",
    "\n",
    "- Read the [Random Forest Regressor](https://spark.apache.org/docs/1.6.2/api/python/pyspark.ml.html#pyspark.ml.regression.RandomForestRegressor) documentation\n",
    "- In the next cell, create a [RandomForestRegressor()](https://spark.apache.org/docs/1.6.2/api/python/pyspark.ml.html#pyspark.ml.regression.RandomForestRegressor)\n",
    "- The next step is to set the parameters for the method (we do this for you):\n",
    "  - Set the name of the prediction column to \"Prediction_PE\"\n",
    "  - Set the name of the label column to \"PE\"\n",
    "  - Set the name of the features column to \"features\"\n",
    "  - Set the random number generator seed to 190088121\n",
    "  - Set the maximum depth to 8\n",
    "  - Set the number of trees to 25\n",
    "- Create the [ML Pipeline](https://spark.apache.org/docs/1.6.2/api/python/pyspark.ml.html#pyspark.ml.Pipeline) and set the stages to the Vectorizer we created earlier and [RandomForestRegressor()](https://spark.apache.org/docs/1.6.2/api/python/pyspark.ml.html#pyspark.ml.regression.RandomForestRegressor) learner we just created."
   ]
  },
  {
   "cell_type": "code",
   "execution_count": null,
   "metadata": {
    "application/vnd.databricks.v1+cell": {
     "inputWidgets": {},
     "nuid": "eee4b58f-511e-4587-8c35-cb61ea751242",
     "showTitle": false,
     "title": ""
    },
    "colab": {
     "base_uri": "https://localhost:8080/"
    },
    "id": "rYIDp7C6a9In",
    "outputId": "e74e0e25-6ba0-4c02-fa17-dc690248523a"
   },
   "outputs": [],
   "source": [
    "# TODO: Replace <FILL_IN> with the appropriate code.\n",
    "\n",
    "from pyspark.ml.regression import RandomForestRegressor\n",
    "\n",
    "# Create a RandomForestRegressor\n",
    "rf = RandomForestRegressor()\n",
    "\n",
    "rf.<FILL_IN>\n",
    "\n",
    "# Create a Pipeline\n",
    "rfPipeline = Pipeline()\n",
    "\n",
    "# Set the stages of the Pipeline\n",
    "rfPipeline.<FILL_IN>\n"
   ]
  },
  {
   "cell_type": "code",
   "execution_count": null,
   "metadata": {
    "application/vnd.databricks.v1+cell": {
     "inputWidgets": {},
     "nuid": "8047a073-617a-4b12-a37c-7664f4a088aa",
     "showTitle": false,
     "title": ""
    },
    "colab": {
     "base_uri": "https://localhost:8080/"
    },
    "id": "3g0Xw5Y7a9In",
    "outputId": "cded7a4f-1dd9-4b0f-bae3-720356ae8509"
   },
   "outputs": [],
   "source": [
    "# TEST\n",
    "Test.assertEqualsHashed(rfPipeline.getStages()[0].__class__.__name__, '4617be70bcf475326c0b07400b97b13457cc4949', \"Stage 0 of pipeline is not correct\")\n",
    "Test.assertEqualsHashed(rfPipeline.getStages()[1].__class__.__name__, 'ecdcce2d075f00c97a6d2a2b8b1f66de322e57d2', \"Stage 1 of pipeline is not correct\")"
   ]
  },
  {
   "cell_type": "markdown",
   "metadata": {
    "application/vnd.databricks.v1+cell": {
     "inputWidgets": {},
     "nuid": "0def0097-22fe-47cc-8c47-cd9b8941046a",
     "showTitle": false,
     "title": ""
    },
    "id": "0vEOUuMIa9In"
   },
   "source": [
    "As with Decision Trees, instead guessing what parameters to use, we will use [Model Selection](https://spark.apache.org/docs/1.6.2/ml-tuning.html#model-selection-aka-hyperparameter-tuning) or [Hyperparameter Tuning](https://spark.apache.org/docs/1.6.2/ml-tuning.html#model-selection-aka-hyperparameter-tuning) to create the best model.\n",
    "\n",
    "We can reuse the exiting [CrossValidator](https://spark.apache.org/docs/1.6.2/ml-tuning.html#cross-validation) by replacing the Estimator with our new `rfPipeline` (the number of folds remains 3).\n",
    "\n",
    "### Exercise 7(g)\n",
    "\n",
    "- Use [ParamGridBuilder](https://spark.apache.org/docs/1.6.2/api/python/pyspark.ml.html#pyspark.ml.tuning.ParamGridBuilder) to build a parameter grid with the parameter `rf.maxBins` and a list of the values 50 and 100, and add the grid to the [CrossValidator](https://spark.apache.org/docs/1.6.2/ml-tuning.html#cross-validation)\n",
    "- Run the [CrossValidator](https://spark.apache.org/docs/1.6.2/ml-tuning.html#cross-validation) to find the parameters that yield the best model (i.e., lowest RMSE) and return the best model.\n",
    "\n",
    "_Note that it will take some time to run the [CrossValidator](https://spark.apache.org/docs/1.6.2/ml-tuning.html#cross-validation) as it will run almost 100 Spark jobs, and each job takes longer to run than the prior CrossValidator runs._"
   ]
  },
  {
   "cell_type": "code",
   "execution_count": null,
   "metadata": {
    "application/vnd.databricks.v1+cell": {
     "inputWidgets": {},
     "nuid": "67e0745d-28ba-4f27-95da-e1980b7f3566",
     "showTitle": false,
     "title": ""
    },
    "id": "wkfpUt_Ka9In"
   },
   "outputs": [],
   "source": [
    "# TODO: Replace <FILL_IN> with the appropriate code.\n",
    "# Let's just reuse our CrossValidator with the new rfPipeline,  RegressionEvaluator regEval, and 3 fold cross validation\n",
    "crossval.<FILL_IN>\n",
    "\n",
    "# Let's tune over our rf.maxBins parameter on the values 50 and 100, create a paramter grid using the ParamGridBuilder\n",
    "paramGrid = <FILL_IN>\n",
    "\n",
    "# Add the grid to the CrossValidator\n",
    "crossval.<FILL_IN>\n",
    "\n",
    "# Now let's find and return the best model\n",
    "rfModel = crossval.<FILL_IN>"
   ]
  },
  {
   "cell_type": "code",
   "execution_count": null,
   "metadata": {
    "application/vnd.databricks.v1+cell": {
     "inputWidgets": {},
     "nuid": "b02c9f1b-741c-4468-bc30-6236667ab094",
     "showTitle": false,
     "title": ""
    },
    "colab": {
     "base_uri": "https://localhost:8080/"
    },
    "id": "m4DTIg4ka9In",
    "outputId": "1c30824e-cc6f-4497-a9c5-356b8e5c9e12"
   },
   "outputs": [],
   "source": [
    "# TEST\n",
    "Test.assertEqualsHashed(rfModel.stages[0].__class__, 'f0c3b910468d87808e019409e7ae5e587d6aca3d', 'rfModel has incorrect stage 0')\n",
    "Test.assertEqualsHashed(rfModel.stages[1].__class__, '0ed43512ea7e35ebeebeed3ddac0186248999a87', 'rfModel has incorrect stage 1')"
   ]
  },
  {
   "cell_type": "markdown",
   "metadata": {
    "application/vnd.databricks.v1+cell": {
     "inputWidgets": {},
     "nuid": "bf02e3dd-1bb4-4149-b516-fdaf36b25620",
     "showTitle": false,
     "title": ""
    },
    "id": "F1qJLuKBa9In"
   },
   "source": [
    "### Exercise 7(h)\n",
    "\n",
    "Now let's see how our tuned RandomForestRegressor model's RMSE and \\\\(r^2\\\\) values compare to our tuned LinearRegression and tuned DecisionTreeRegressor models.\n",
    "\n",
    "** TODO**: Complete and run the next cell."
   ]
  },
  {
   "cell_type": "code",
   "execution_count": null,
   "metadata": {
    "application/vnd.databricks.v1+cell": {
     "inputWidgets": {},
     "nuid": "4c183e11-16d8-44ee-86f0-c60917d9c34f",
     "showTitle": false,
     "title": ""
    },
    "colab": {
     "base_uri": "https://localhost:8080/"
    },
    "id": "_DUPFaLDa9In",
    "outputId": "2ba38e9c-134f-4752-a0c1-933d9a934de4"
   },
   "outputs": [],
   "source": [
    "# TODO: Replace <FILL_IN> with the appropriate code.\n",
    "\n",
    "# Now let's use rfModel to compute an evaluation metric for our test dataset: testSetDF\n",
    "resultsDF = <FILL_IN>\n",
    "\n",
    "# Run the previously created RMSE evaluator, regEval, on the resultsDF DataFrame\n",
    "rmseRF = <FILL_IN>\n",
    "\n",
    "# Now let's compute the r2 evaluation metric for our test dataset\n",
    "r2RF = <FILL_IN>\n",
    "\n",
    "print(\"LR Root Mean Squared Error: {0:.2f}\".format(rmseNew))\n",
    "print(\"DT Root Mean Squared Error: {0:.2f}\".format(rmseDT))\n",
    "print(\"RF Root Mean Squared Error: {0:.2f}\".format(rmseRF))\n",
    "print(\"LR r2: {0:.2f}\".format(r2New))\n",
    "print(\"DT r2: {0:.2f}\".format(r2DT))\n",
    "print(\"RF r2: {0:.2f}\".format(r2RF))"
   ]
  },
  {
   "cell_type": "code",
   "execution_count": null,
   "metadata": {
    "application/vnd.databricks.v1+cell": {
     "inputWidgets": {},
     "nuid": "cd895155-a935-4574-8646-f5cd17a201c5",
     "showTitle": false,
     "title": ""
    },
    "colab": {
     "base_uri": "https://localhost:8080/"
    },
    "id": "Latrm2xXa9In",
    "outputId": "2f7b5e5d-1d2b-4d61-d540-fe28d3b1742a"
   },
   "outputs": [],
   "source": [
    "# TEST\n",
    "Test.assertEquals(round(rmseRF, 2), 3.45, \"Incorrect value for rmseRF\")\n",
    "Test.assertEquals(round(r2RF, 2), 0.96, \"Incorrect value for r2RF\")"
   ]
  },
  {
   "cell_type": "markdown",
   "metadata": {
    "application/vnd.databricks.v1+cell": {
     "inputWidgets": {},
     "nuid": "b1cf6dce-1269-4ce9-aebc-9372e89f2ce7",
     "showTitle": false,
     "title": ""
    },
    "id": "2jBKk1OJa9Io"
   },
   "source": [
    "Note that the RMSE for the Random Forest model is better."
   ]
  },
  {
   "cell_type": "markdown",
   "metadata": {
    "application/vnd.databricks.v1+cell": {
     "inputWidgets": {},
     "nuid": "40db49fc-31b1-4e8a-ac86-4b5e80300413",
     "showTitle": false,
     "title": ""
    },
    "id": "MDayINNja9Io"
   },
   "source": [
    "The line below will pull the Random Forest model from the Pipeline as display it as an if-then-else string.\n",
    "\n",
    "**ToDo**: Run the next cell"
   ]
  },
  {
   "cell_type": "code",
   "execution_count": null,
   "metadata": {
    "application/vnd.databricks.v1+cell": {
     "inputWidgets": {},
     "nuid": "cd5f4cca-3416-40d0-897b-da61b15eb62d",
     "showTitle": false,
     "title": ""
    },
    "colab": {
     "base_uri": "https://localhost:8080/"
    },
    "id": "VAhu_E1ya9Io",
    "outputId": "409a6d28-0471-4c32-c979-98e5270774fa"
   },
   "outputs": [],
   "source": [
    "print(rfModel.stages[-1]._java_obj.toDebugString())"
   ]
  },
  {
   "cell_type": "markdown",
   "metadata": {
    "application/vnd.databricks.v1+cell": {
     "inputWidgets": {},
     "nuid": "347abe8d-5a21-4a8a-a539-be61b521357b",
     "showTitle": false,
     "title": ""
    },
    "id": "a8DJOR7Wa9Io"
   },
   "source": [
    "### Conclusion\n",
    "\n",
    "Wow! So our best model is in fact our Decision tree model outperforms the random forrest ensemble model."
   ]
  },
  {
   "cell_type": "code",
   "execution_count": null,
   "metadata": {
    "id": "DDXf9kfrUnsb"
   },
   "outputs": [],
   "source": []
  }
 ],
 "metadata": {
  "application/vnd.databricks.v1+notebook": {
   "dashboards": [],
   "language": "python",
   "notebookMetadata": {
    "pythonIndentUnit": 2
   },
   "notebookName": "ml_pipeline",
   "notebookOrigID": 590833222285330,
   "widgets": {}
  },
  "colab": {
   "provenance": []
  },
  "kernelspec": {
   "display_name": "Python 3 (ipykernel)",
   "language": "python",
   "name": "python3"
  },
  "language_info": {
   "codemirror_mode": {
    "name": "ipython",
    "version": 3
   },
   "file_extension": ".py",
   "mimetype": "text/x-python",
   "name": "python",
   "nbconvert_exporter": "python",
   "pygments_lexer": "ipython3",
   "version": "3.11.5"
  },
  "name": "cs110_lab1_power_plant_ml_pipeline",
  "notebookId": 61884932494754
 },
 "nbformat": 4,
 "nbformat_minor": 4
}
